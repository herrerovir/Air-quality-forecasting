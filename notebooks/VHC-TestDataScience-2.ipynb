{
 "cells": [
  {
   "cell_type": "markdown",
   "metadata": {},
   "source": [
    "# Test 2: Time Series Regression\n",
    "\n",
    "## Air Quality Forecasting\n",
    "\n",
    "**Author:** Virginia Herrero [Email](mailto:v.herrero@outlook.com) | [LinkedIn](https://www.linkedin.com/in/virginia-herrero-casero/) | [GitHub](https://github.com/herrerovir)"
   ]
  },
  {
   "cell_type": "markdown",
   "metadata": {},
   "source": [
    "### Introducción\n",
    "\n",
    "En este proyecto, se lleva a cabo un proceso de machine learning de principio a fin, con el objetivo de predecir la calidad del aire usando datos de series temporales. Este cuaderno detalla paso a paso todas las decisiones tomadas desde la limpieza de los datos hasta el desarrollo y evaluación del modelo.\n",
    "\n",
    "Elegí este conjunto de datos porque es relevante para mi formación como ingeniero químico especializada en control de calidad. Predecir la calidad del aire es una gran oportunidad para mostrar mis habilidades en ingeniería aplicada a la ciencia de datos, especialmente en el ámbito del control de calidad para diferentes industrias."
   ]
  },
  {
   "cell_type": "markdown",
   "metadata": {},
   "source": [
    "### Dataset\n",
    "\n",
    "El conjunto de datos utilizado en este proyecto se obtuvo del UCI Machine Learning Repository [here](https://archive.ics.uci.edu/dataset/360/air+quality).\n",
    "\n",
    "La información proporcionada del conjunto de datos es la siguiente:\n",
    "\n",
    "- The dataset contains 9358 instances of hourly averaged responses from an array of 5 metal oxide chemical sensors embedded in an Air Quality Chemical Multisensor Device. The device was located on the field in a significantly polluted area, at road level, within an Italian city. \n",
    "\n",
    "- Data were recorded from March 2004 to February 2005 (one year) representing the longest freely available recordings of on field deployed air quality chemical sensor devices responses. \n",
    "\n",
    "- Ground Truth hourly averaged concentrations for CO, Non Metanic Hydrocarbons, Benzene, Total Nitrogen Oxides (NOx) and Nitrogen Dioxide (NO2) and were provided by a co-located reference certified analyzer.\n",
    "\n",
    "- Missing values are tagged with -200 value.\n",
    "\n",
    "Las variables de este conjunto de datos son las siguientes:\n",
    "\n",
    "- `Date`: (DD/MM/YYYY)\n",
    "\n",
    "- `Time`: (HH.MM.SS)\n",
    "\n",
    "- `CO(GT)`: True hourly averaged concentration CO in mg/m^3 (reference analyzer)\n",
    "\n",
    "- `PT08.S1(CO)`: (tin oxide) hourly averaged sensor response (nominally CO targeted)\n",
    "\n",
    "- `NMHC(GT)`: True hourly averaged overall Non Metanic HydroCarbons concentration in microg/m^3 (reference analyzer)\n",
    "\n",
    "- `C6H6(GT)`: True hourly averaged Benzene concentration  in microg/m^3 (reference analyzer)\n",
    "\n",
    "- `PT08.S2(NMHC)`: (titania) hourly averaged sensor response (nominally NMHC targeted)\n",
    "\n",
    "- `NOx(GT)`: True hourly averaged NOx concentration  in ppb (reference analyzer)\n",
    "\n",
    "- `PT08.S3(NOx)`: (tungsten oxide) hourly averaged sensor response (nominally NOx targeted)\n",
    "\n",
    "- `NO2(GT)`: True hourly averaged NO2 concentration in microg/m^3 (reference analyzer)\n",
    "\n",
    "- `PT08.S4(NO2)`: (tungsten oxide) hourly averaged sensor response (nominally NO2 targeted)\n",
    "\n",
    "- `PT08.S5(O3)`: (indium oxide) hourly averaged sensor response (nominally O3 targeted)\n",
    "\n",
    "- `T`: Temperature in °C\n",
    "\n",
    "- `RH`: Relative Humidity (%)\n",
    "\n",
    "- `AH`: Absolute Humidity"
   ]
  },
  {
   "cell_type": "markdown",
   "metadata": {},
   "source": [
    "### Data loading\n",
    "\n",
    "Carga el archivo CSV **AirQualityUCI** como un DataFrame de pandas."
   ]
  },
  {
   "cell_type": "code",
   "execution_count": 1,
   "metadata": {},
   "outputs": [],
   "source": [
    "# Import all required libraries\n",
    "import numpy as np\n",
    "import pandas as pd\n",
    "\n",
    "# Visualization\n",
    "import matplotlib.pyplot as plt\n",
    "import seaborn as sns\n",
    "%matplotlib inline\n",
    "\n",
    "# Seasonal analysis\n",
    "from statsmodels.tsa.stattools import adfuller\n",
    "from statsmodels.tsa.seasonal import seasonal_decompose\n",
    "\n",
    "# Modeling and evaluation\n",
    "import tensorflow as tf\n",
    "from tensorflow.keras.models import Sequential\n",
    "from tensorflow.keras.layers import LSTM, Dense\n",
    "from tensorflow.keras.callbacks import EarlyStopping\n",
    "from sklearn.metrics import mean_absolute_error, mean_squared_error, r2_score"
   ]
  },
  {
   "cell_type": "code",
   "execution_count": 2,
   "metadata": {},
   "outputs": [
    {
     "data": {
      "text/html": [
       "<div>\n",
       "<style scoped>\n",
       "    .dataframe tbody tr th:only-of-type {\n",
       "        vertical-align: middle;\n",
       "    }\n",
       "\n",
       "    .dataframe tbody tr th {\n",
       "        vertical-align: top;\n",
       "    }\n",
       "\n",
       "    .dataframe thead th {\n",
       "        text-align: right;\n",
       "    }\n",
       "</style>\n",
       "<table border=\"1\" class=\"dataframe\">\n",
       "  <thead>\n",
       "    <tr style=\"text-align: right;\">\n",
       "      <th></th>\n",
       "      <th>Date</th>\n",
       "      <th>Time</th>\n",
       "      <th>CO(GT)</th>\n",
       "      <th>PT08.S1(CO)</th>\n",
       "      <th>NMHC(GT)</th>\n",
       "      <th>C6H6(GT)</th>\n",
       "      <th>PT08.S2(NMHC)</th>\n",
       "      <th>NOx(GT)</th>\n",
       "      <th>PT08.S3(NOx)</th>\n",
       "      <th>NO2(GT)</th>\n",
       "      <th>PT08.S4(NO2)</th>\n",
       "      <th>PT08.S5(O3)</th>\n",
       "      <th>T</th>\n",
       "      <th>RH</th>\n",
       "      <th>AH</th>\n",
       "      <th>Unnamed: 15</th>\n",
       "      <th>Unnamed: 16</th>\n",
       "    </tr>\n",
       "  </thead>\n",
       "  <tbody>\n",
       "    <tr>\n",
       "      <th>0</th>\n",
       "      <td>10/03/2004</td>\n",
       "      <td>18.00.00</td>\n",
       "      <td>2.6</td>\n",
       "      <td>1360.0</td>\n",
       "      <td>150.0</td>\n",
       "      <td>11.9</td>\n",
       "      <td>1046.0</td>\n",
       "      <td>166.0</td>\n",
       "      <td>1056.0</td>\n",
       "      <td>113.0</td>\n",
       "      <td>1692.0</td>\n",
       "      <td>1268.0</td>\n",
       "      <td>13.6</td>\n",
       "      <td>48.9</td>\n",
       "      <td>0.7578</td>\n",
       "      <td>NaN</td>\n",
       "      <td>NaN</td>\n",
       "    </tr>\n",
       "    <tr>\n",
       "      <th>1</th>\n",
       "      <td>10/03/2004</td>\n",
       "      <td>19.00.00</td>\n",
       "      <td>2.0</td>\n",
       "      <td>1292.0</td>\n",
       "      <td>112.0</td>\n",
       "      <td>9.4</td>\n",
       "      <td>955.0</td>\n",
       "      <td>103.0</td>\n",
       "      <td>1174.0</td>\n",
       "      <td>92.0</td>\n",
       "      <td>1559.0</td>\n",
       "      <td>972.0</td>\n",
       "      <td>13.3</td>\n",
       "      <td>47.7</td>\n",
       "      <td>0.7255</td>\n",
       "      <td>NaN</td>\n",
       "      <td>NaN</td>\n",
       "    </tr>\n",
       "    <tr>\n",
       "      <th>2</th>\n",
       "      <td>10/03/2004</td>\n",
       "      <td>20.00.00</td>\n",
       "      <td>2.2</td>\n",
       "      <td>1402.0</td>\n",
       "      <td>88.0</td>\n",
       "      <td>9.0</td>\n",
       "      <td>939.0</td>\n",
       "      <td>131.0</td>\n",
       "      <td>1140.0</td>\n",
       "      <td>114.0</td>\n",
       "      <td>1555.0</td>\n",
       "      <td>1074.0</td>\n",
       "      <td>11.9</td>\n",
       "      <td>54.0</td>\n",
       "      <td>0.7502</td>\n",
       "      <td>NaN</td>\n",
       "      <td>NaN</td>\n",
       "    </tr>\n",
       "    <tr>\n",
       "      <th>3</th>\n",
       "      <td>10/03/2004</td>\n",
       "      <td>21.00.00</td>\n",
       "      <td>2.2</td>\n",
       "      <td>1376.0</td>\n",
       "      <td>80.0</td>\n",
       "      <td>9.2</td>\n",
       "      <td>948.0</td>\n",
       "      <td>172.0</td>\n",
       "      <td>1092.0</td>\n",
       "      <td>122.0</td>\n",
       "      <td>1584.0</td>\n",
       "      <td>1203.0</td>\n",
       "      <td>11.0</td>\n",
       "      <td>60.0</td>\n",
       "      <td>0.7867</td>\n",
       "      <td>NaN</td>\n",
       "      <td>NaN</td>\n",
       "    </tr>\n",
       "    <tr>\n",
       "      <th>4</th>\n",
       "      <td>10/03/2004</td>\n",
       "      <td>22.00.00</td>\n",
       "      <td>1.6</td>\n",
       "      <td>1272.0</td>\n",
       "      <td>51.0</td>\n",
       "      <td>6.5</td>\n",
       "      <td>836.0</td>\n",
       "      <td>131.0</td>\n",
       "      <td>1205.0</td>\n",
       "      <td>116.0</td>\n",
       "      <td>1490.0</td>\n",
       "      <td>1110.0</td>\n",
       "      <td>11.2</td>\n",
       "      <td>59.6</td>\n",
       "      <td>0.7888</td>\n",
       "      <td>NaN</td>\n",
       "      <td>NaN</td>\n",
       "    </tr>\n",
       "  </tbody>\n",
       "</table>\n",
       "</div>"
      ],
      "text/plain": [
       "         Date      Time  CO(GT)  PT08.S1(CO)  NMHC(GT)  C6H6(GT)  \\\n",
       "0  10/03/2004  18.00.00     2.6       1360.0     150.0      11.9   \n",
       "1  10/03/2004  19.00.00     2.0       1292.0     112.0       9.4   \n",
       "2  10/03/2004  20.00.00     2.2       1402.0      88.0       9.0   \n",
       "3  10/03/2004  21.00.00     2.2       1376.0      80.0       9.2   \n",
       "4  10/03/2004  22.00.00     1.6       1272.0      51.0       6.5   \n",
       "\n",
       "   PT08.S2(NMHC)  NOx(GT)  PT08.S3(NOx)  NO2(GT)  PT08.S4(NO2)  PT08.S5(O3)  \\\n",
       "0         1046.0    166.0        1056.0    113.0        1692.0       1268.0   \n",
       "1          955.0    103.0        1174.0     92.0        1559.0        972.0   \n",
       "2          939.0    131.0        1140.0    114.0        1555.0       1074.0   \n",
       "3          948.0    172.0        1092.0    122.0        1584.0       1203.0   \n",
       "4          836.0    131.0        1205.0    116.0        1490.0       1110.0   \n",
       "\n",
       "      T    RH      AH  Unnamed: 15  Unnamed: 16  \n",
       "0  13.6  48.9  0.7578          NaN          NaN  \n",
       "1  13.3  47.7  0.7255          NaN          NaN  \n",
       "2  11.9  54.0  0.7502          NaN          NaN  \n",
       "3  11.0  60.0  0.7867          NaN          NaN  \n",
       "4  11.2  59.6  0.7888          NaN          NaN  "
      ]
     },
     "execution_count": 2,
     "metadata": {},
     "output_type": "execute_result"
    }
   ],
   "source": [
    "# Load the dataset\n",
    "df = pd.read_csv(\"../data/raw/AirQualityUCI.csv\", delimiter = \";\", decimal = \",\")\n",
    "df.head()"
   ]
  },
  {
   "cell_type": "markdown",
   "metadata": {},
   "source": [
    "### Data cleaning\n",
    "\n",
    "Limpia y preprocesa el conjunto de datos antes de seguir con el análisis."
   ]
  },
  {
   "cell_type": "code",
   "execution_count": 3,
   "metadata": {},
   "outputs": [
    {
     "name": "stdout",
     "output_type": "stream",
     "text": [
      "<class 'pandas.core.frame.DataFrame'>\n",
      "RangeIndex: 9471 entries, 0 to 9470\n",
      "Data columns (total 17 columns):\n",
      " #   Column         Non-Null Count  Dtype  \n",
      "---  ------         --------------  -----  \n",
      " 0   Date           9357 non-null   object \n",
      " 1   Time           9357 non-null   object \n",
      " 2   CO(GT)         9357 non-null   float64\n",
      " 3   PT08.S1(CO)    9357 non-null   float64\n",
      " 4   NMHC(GT)       9357 non-null   float64\n",
      " 5   C6H6(GT)       9357 non-null   float64\n",
      " 6   PT08.S2(NMHC)  9357 non-null   float64\n",
      " 7   NOx(GT)        9357 non-null   float64\n",
      " 8   PT08.S3(NOx)   9357 non-null   float64\n",
      " 9   NO2(GT)        9357 non-null   float64\n",
      " 10  PT08.S4(NO2)   9357 non-null   float64\n",
      " 11  PT08.S5(O3)    9357 non-null   float64\n",
      " 12  T              9357 non-null   float64\n",
      " 13  RH             9357 non-null   float64\n",
      " 14  AH             9357 non-null   float64\n",
      " 15  Unnamed: 15    0 non-null      float64\n",
      " 16  Unnamed: 16    0 non-null      float64\n",
      "dtypes: float64(15), object(2)\n",
      "memory usage: 1.2+ MB\n"
     ]
    }
   ],
   "source": [
    "df.info()"
   ]
  },
  {
   "cell_type": "markdown",
   "metadata": {},
   "source": [
    "* **Elimina columnas innecesarias**\n",
    "\n",
    "Las columnas Unnamed: 15 y Unnamed: 16 están vacías, por lo tanto, se eliminan del conjunto de datos."
   ]
  },
  {
   "cell_type": "code",
   "execution_count": 4,
   "metadata": {},
   "outputs": [],
   "source": [
    "df = df.drop([\"Unnamed: 15\", \"Unnamed: 16\"], axis = 1)"
   ]
  },
  {
   "cell_type": "markdown",
   "metadata": {},
   "source": [
    "* **Renombra columnas**\n",
    "\n",
    "Algunas columnas se renombraron para proporcionar un contexto más claro y mejorar la comprensión para una audiencia no técnica del conjunto de datos."
   ]
  },
  {
   "cell_type": "code",
   "execution_count": 5,
   "metadata": {},
   "outputs": [
    {
     "data": {
      "text/plain": [
       "Index(['Date', 'Time', 'CO(GT)', 'PT08.S1(CO)', 'NMHC(GT)', 'C6H6(GT)',\n",
       "       'PT08.S2(NMHC)', 'NOx(GT)', 'PT08.S3(NOx)', 'NO2(GT)', 'PT08.S4(NO2)',\n",
       "       'PT08.S5(O3)', 'T', 'RH', 'AH'],\n",
       "      dtype='object')"
      ]
     },
     "execution_count": 5,
     "metadata": {},
     "output_type": "execute_result"
    }
   ],
   "source": [
    "df.columns"
   ]
  },
  {
   "cell_type": "code",
   "execution_count": 6,
   "metadata": {},
   "outputs": [],
   "source": [
    "df = df.rename(columns = {\"CO(GT)\" : \"CO_Concentration\",\n",
    "                          \"PT08.S1(CO)\" : \"CO_Sensor_Response\",\n",
    "                          \"NMHC(GT)\" : \"NMHC_Concentration\",\n",
    "                          \"C6H6(GT)\" : \"C6H6_Concentration\",\n",
    "                          \"PT08.S2(NMHC)\" : \"NMHC_Sensor_Response\",\n",
    "                          \"NOx(GT)\" : \"NOx_Concentration\",\n",
    "                          \"PT08.S3(NOx)\" : \"NOx_Sensor_Response\",\n",
    "                          \"NO2(GT)\" : \"NO2_Concentration\",\n",
    "                          \"PT08.S4(NO2)\" : \"NO2_Sensor_Response\",\n",
    "                          \"PT08.S5(O3)\" : \"O3_Sensor_Response\",\n",
    "                          \"T\" : \"Temperature\",\n",
    "                          \"RH\" : \"Relative_Humidity\",\n",
    "                          \"AH\" : \"Absolute_Humidity\"})"
   ]
  },
  {
   "cell_type": "code",
   "execution_count": 7,
   "metadata": {},
   "outputs": [
    {
     "data": {
      "text/html": [
       "<div>\n",
       "<style scoped>\n",
       "    .dataframe tbody tr th:only-of-type {\n",
       "        vertical-align: middle;\n",
       "    }\n",
       "\n",
       "    .dataframe tbody tr th {\n",
       "        vertical-align: top;\n",
       "    }\n",
       "\n",
       "    .dataframe thead th {\n",
       "        text-align: right;\n",
       "    }\n",
       "</style>\n",
       "<table border=\"1\" class=\"dataframe\">\n",
       "  <thead>\n",
       "    <tr style=\"text-align: right;\">\n",
       "      <th></th>\n",
       "      <th>Date</th>\n",
       "      <th>Time</th>\n",
       "      <th>CO_Concentration</th>\n",
       "      <th>CO_Sensor_Response</th>\n",
       "      <th>NMHC_Concentration</th>\n",
       "      <th>C6H6_Concentration</th>\n",
       "      <th>NMHC_Sensor_Response</th>\n",
       "      <th>NOx_Concentration</th>\n",
       "      <th>NOx_Sensor_Response</th>\n",
       "      <th>NO2_Concentration</th>\n",
       "      <th>NO2_Sensor_Response</th>\n",
       "      <th>O3_Sensor_Response</th>\n",
       "      <th>Temperature</th>\n",
       "      <th>Relative_Humidity</th>\n",
       "      <th>Absolute_Humidity</th>\n",
       "    </tr>\n",
       "  </thead>\n",
       "  <tbody>\n",
       "    <tr>\n",
       "      <th>0</th>\n",
       "      <td>10/03/2004</td>\n",
       "      <td>18.00.00</td>\n",
       "      <td>2.6</td>\n",
       "      <td>1360.0</td>\n",
       "      <td>150.0</td>\n",
       "      <td>11.9</td>\n",
       "      <td>1046.0</td>\n",
       "      <td>166.0</td>\n",
       "      <td>1056.0</td>\n",
       "      <td>113.0</td>\n",
       "      <td>1692.0</td>\n",
       "      <td>1268.0</td>\n",
       "      <td>13.6</td>\n",
       "      <td>48.9</td>\n",
       "      <td>0.7578</td>\n",
       "    </tr>\n",
       "    <tr>\n",
       "      <th>1</th>\n",
       "      <td>10/03/2004</td>\n",
       "      <td>19.00.00</td>\n",
       "      <td>2.0</td>\n",
       "      <td>1292.0</td>\n",
       "      <td>112.0</td>\n",
       "      <td>9.4</td>\n",
       "      <td>955.0</td>\n",
       "      <td>103.0</td>\n",
       "      <td>1174.0</td>\n",
       "      <td>92.0</td>\n",
       "      <td>1559.0</td>\n",
       "      <td>972.0</td>\n",
       "      <td>13.3</td>\n",
       "      <td>47.7</td>\n",
       "      <td>0.7255</td>\n",
       "    </tr>\n",
       "    <tr>\n",
       "      <th>2</th>\n",
       "      <td>10/03/2004</td>\n",
       "      <td>20.00.00</td>\n",
       "      <td>2.2</td>\n",
       "      <td>1402.0</td>\n",
       "      <td>88.0</td>\n",
       "      <td>9.0</td>\n",
       "      <td>939.0</td>\n",
       "      <td>131.0</td>\n",
       "      <td>1140.0</td>\n",
       "      <td>114.0</td>\n",
       "      <td>1555.0</td>\n",
       "      <td>1074.0</td>\n",
       "      <td>11.9</td>\n",
       "      <td>54.0</td>\n",
       "      <td>0.7502</td>\n",
       "    </tr>\n",
       "    <tr>\n",
       "      <th>3</th>\n",
       "      <td>10/03/2004</td>\n",
       "      <td>21.00.00</td>\n",
       "      <td>2.2</td>\n",
       "      <td>1376.0</td>\n",
       "      <td>80.0</td>\n",
       "      <td>9.2</td>\n",
       "      <td>948.0</td>\n",
       "      <td>172.0</td>\n",
       "      <td>1092.0</td>\n",
       "      <td>122.0</td>\n",
       "      <td>1584.0</td>\n",
       "      <td>1203.0</td>\n",
       "      <td>11.0</td>\n",
       "      <td>60.0</td>\n",
       "      <td>0.7867</td>\n",
       "    </tr>\n",
       "    <tr>\n",
       "      <th>4</th>\n",
       "      <td>10/03/2004</td>\n",
       "      <td>22.00.00</td>\n",
       "      <td>1.6</td>\n",
       "      <td>1272.0</td>\n",
       "      <td>51.0</td>\n",
       "      <td>6.5</td>\n",
       "      <td>836.0</td>\n",
       "      <td>131.0</td>\n",
       "      <td>1205.0</td>\n",
       "      <td>116.0</td>\n",
       "      <td>1490.0</td>\n",
       "      <td>1110.0</td>\n",
       "      <td>11.2</td>\n",
       "      <td>59.6</td>\n",
       "      <td>0.7888</td>\n",
       "    </tr>\n",
       "  </tbody>\n",
       "</table>\n",
       "</div>"
      ],
      "text/plain": [
       "         Date      Time  CO_Concentration  CO_Sensor_Response  \\\n",
       "0  10/03/2004  18.00.00               2.6              1360.0   \n",
       "1  10/03/2004  19.00.00               2.0              1292.0   \n",
       "2  10/03/2004  20.00.00               2.2              1402.0   \n",
       "3  10/03/2004  21.00.00               2.2              1376.0   \n",
       "4  10/03/2004  22.00.00               1.6              1272.0   \n",
       "\n",
       "   NMHC_Concentration  C6H6_Concentration  NMHC_Sensor_Response  \\\n",
       "0               150.0                11.9                1046.0   \n",
       "1               112.0                 9.4                 955.0   \n",
       "2                88.0                 9.0                 939.0   \n",
       "3                80.0                 9.2                 948.0   \n",
       "4                51.0                 6.5                 836.0   \n",
       "\n",
       "   NOx_Concentration  NOx_Sensor_Response  NO2_Concentration  \\\n",
       "0              166.0               1056.0              113.0   \n",
       "1              103.0               1174.0               92.0   \n",
       "2              131.0               1140.0              114.0   \n",
       "3              172.0               1092.0              122.0   \n",
       "4              131.0               1205.0              116.0   \n",
       "\n",
       "   NO2_Sensor_Response  O3_Sensor_Response  Temperature  Relative_Humidity  \\\n",
       "0               1692.0              1268.0         13.6               48.9   \n",
       "1               1559.0               972.0         13.3               47.7   \n",
       "2               1555.0              1074.0         11.9               54.0   \n",
       "3               1584.0              1203.0         11.0               60.0   \n",
       "4               1490.0              1110.0         11.2               59.6   \n",
       "\n",
       "   Absolute_Humidity  \n",
       "0             0.7578  \n",
       "1             0.7255  \n",
       "2             0.7502  \n",
       "3             0.7867  \n",
       "4             0.7888  "
      ]
     },
     "execution_count": 7,
     "metadata": {},
     "output_type": "execute_result"
    }
   ],
   "source": [
    "# Show the dataset with the renamed variables\n",
    "df.head()"
   ]
  },
  {
   "cell_type": "markdown",
   "metadata": {},
   "source": [
    "* **Valores nulos**\n",
    "\n",
    "Identifica y elimina cualquier valor nulo en el conjunto de datos cuando sea necesario."
   ]
  },
  {
   "cell_type": "code",
   "execution_count": 8,
   "metadata": {},
   "outputs": [
    {
     "data": {
      "text/plain": [
       "Date                    114\n",
       "Time                    114\n",
       "CO_Concentration        114\n",
       "CO_Sensor_Response      114\n",
       "NMHC_Concentration      114\n",
       "C6H6_Concentration      114\n",
       "NMHC_Sensor_Response    114\n",
       "NOx_Concentration       114\n",
       "NOx_Sensor_Response     114\n",
       "NO2_Concentration       114\n",
       "NO2_Sensor_Response     114\n",
       "O3_Sensor_Response      114\n",
       "Temperature             114\n",
       "Relative_Humidity       114\n",
       "Absolute_Humidity       114\n",
       "dtype: int64"
      ]
     },
     "execution_count": 8,
     "metadata": {},
     "output_type": "execute_result"
    }
   ],
   "source": [
    "# Check the total of null values in each column\n",
    "df.isna().sum()"
   ]
  },
  {
   "cell_type": "markdown",
   "metadata": {},
   "source": [
    "Hay 114 valores nules en todas las columnas del dataset."
   ]
  },
  {
   "cell_type": "code",
   "execution_count": 9,
   "metadata": {},
   "outputs": [
    {
     "data": {
      "text/html": [
       "<div>\n",
       "<style scoped>\n",
       "    .dataframe tbody tr th:only-of-type {\n",
       "        vertical-align: middle;\n",
       "    }\n",
       "\n",
       "    .dataframe tbody tr th {\n",
       "        vertical-align: top;\n",
       "    }\n",
       "\n",
       "    .dataframe thead th {\n",
       "        text-align: right;\n",
       "    }\n",
       "</style>\n",
       "<table border=\"1\" class=\"dataframe\">\n",
       "  <thead>\n",
       "    <tr style=\"text-align: right;\">\n",
       "      <th></th>\n",
       "      <th>Date</th>\n",
       "      <th>Time</th>\n",
       "      <th>CO_Concentration</th>\n",
       "      <th>CO_Sensor_Response</th>\n",
       "      <th>NMHC_Concentration</th>\n",
       "      <th>C6H6_Concentration</th>\n",
       "      <th>NMHC_Sensor_Response</th>\n",
       "      <th>NOx_Concentration</th>\n",
       "      <th>NOx_Sensor_Response</th>\n",
       "      <th>NO2_Concentration</th>\n",
       "      <th>NO2_Sensor_Response</th>\n",
       "      <th>O3_Sensor_Response</th>\n",
       "      <th>Temperature</th>\n",
       "      <th>Relative_Humidity</th>\n",
       "      <th>Absolute_Humidity</th>\n",
       "    </tr>\n",
       "  </thead>\n",
       "  <tbody>\n",
       "    <tr>\n",
       "      <th>9357</th>\n",
       "      <td>NaN</td>\n",
       "      <td>NaN</td>\n",
       "      <td>NaN</td>\n",
       "      <td>NaN</td>\n",
       "      <td>NaN</td>\n",
       "      <td>NaN</td>\n",
       "      <td>NaN</td>\n",
       "      <td>NaN</td>\n",
       "      <td>NaN</td>\n",
       "      <td>NaN</td>\n",
       "      <td>NaN</td>\n",
       "      <td>NaN</td>\n",
       "      <td>NaN</td>\n",
       "      <td>NaN</td>\n",
       "      <td>NaN</td>\n",
       "    </tr>\n",
       "    <tr>\n",
       "      <th>9358</th>\n",
       "      <td>NaN</td>\n",
       "      <td>NaN</td>\n",
       "      <td>NaN</td>\n",
       "      <td>NaN</td>\n",
       "      <td>NaN</td>\n",
       "      <td>NaN</td>\n",
       "      <td>NaN</td>\n",
       "      <td>NaN</td>\n",
       "      <td>NaN</td>\n",
       "      <td>NaN</td>\n",
       "      <td>NaN</td>\n",
       "      <td>NaN</td>\n",
       "      <td>NaN</td>\n",
       "      <td>NaN</td>\n",
       "      <td>NaN</td>\n",
       "    </tr>\n",
       "    <tr>\n",
       "      <th>9359</th>\n",
       "      <td>NaN</td>\n",
       "      <td>NaN</td>\n",
       "      <td>NaN</td>\n",
       "      <td>NaN</td>\n",
       "      <td>NaN</td>\n",
       "      <td>NaN</td>\n",
       "      <td>NaN</td>\n",
       "      <td>NaN</td>\n",
       "      <td>NaN</td>\n",
       "      <td>NaN</td>\n",
       "      <td>NaN</td>\n",
       "      <td>NaN</td>\n",
       "      <td>NaN</td>\n",
       "      <td>NaN</td>\n",
       "      <td>NaN</td>\n",
       "    </tr>\n",
       "    <tr>\n",
       "      <th>9360</th>\n",
       "      <td>NaN</td>\n",
       "      <td>NaN</td>\n",
       "      <td>NaN</td>\n",
       "      <td>NaN</td>\n",
       "      <td>NaN</td>\n",
       "      <td>NaN</td>\n",
       "      <td>NaN</td>\n",
       "      <td>NaN</td>\n",
       "      <td>NaN</td>\n",
       "      <td>NaN</td>\n",
       "      <td>NaN</td>\n",
       "      <td>NaN</td>\n",
       "      <td>NaN</td>\n",
       "      <td>NaN</td>\n",
       "      <td>NaN</td>\n",
       "    </tr>\n",
       "    <tr>\n",
       "      <th>9361</th>\n",
       "      <td>NaN</td>\n",
       "      <td>NaN</td>\n",
       "      <td>NaN</td>\n",
       "      <td>NaN</td>\n",
       "      <td>NaN</td>\n",
       "      <td>NaN</td>\n",
       "      <td>NaN</td>\n",
       "      <td>NaN</td>\n",
       "      <td>NaN</td>\n",
       "      <td>NaN</td>\n",
       "      <td>NaN</td>\n",
       "      <td>NaN</td>\n",
       "      <td>NaN</td>\n",
       "      <td>NaN</td>\n",
       "      <td>NaN</td>\n",
       "    </tr>\n",
       "    <tr>\n",
       "      <th>...</th>\n",
       "      <td>...</td>\n",
       "      <td>...</td>\n",
       "      <td>...</td>\n",
       "      <td>...</td>\n",
       "      <td>...</td>\n",
       "      <td>...</td>\n",
       "      <td>...</td>\n",
       "      <td>...</td>\n",
       "      <td>...</td>\n",
       "      <td>...</td>\n",
       "      <td>...</td>\n",
       "      <td>...</td>\n",
       "      <td>...</td>\n",
       "      <td>...</td>\n",
       "      <td>...</td>\n",
       "    </tr>\n",
       "    <tr>\n",
       "      <th>9466</th>\n",
       "      <td>NaN</td>\n",
       "      <td>NaN</td>\n",
       "      <td>NaN</td>\n",
       "      <td>NaN</td>\n",
       "      <td>NaN</td>\n",
       "      <td>NaN</td>\n",
       "      <td>NaN</td>\n",
       "      <td>NaN</td>\n",
       "      <td>NaN</td>\n",
       "      <td>NaN</td>\n",
       "      <td>NaN</td>\n",
       "      <td>NaN</td>\n",
       "      <td>NaN</td>\n",
       "      <td>NaN</td>\n",
       "      <td>NaN</td>\n",
       "    </tr>\n",
       "    <tr>\n",
       "      <th>9467</th>\n",
       "      <td>NaN</td>\n",
       "      <td>NaN</td>\n",
       "      <td>NaN</td>\n",
       "      <td>NaN</td>\n",
       "      <td>NaN</td>\n",
       "      <td>NaN</td>\n",
       "      <td>NaN</td>\n",
       "      <td>NaN</td>\n",
       "      <td>NaN</td>\n",
       "      <td>NaN</td>\n",
       "      <td>NaN</td>\n",
       "      <td>NaN</td>\n",
       "      <td>NaN</td>\n",
       "      <td>NaN</td>\n",
       "      <td>NaN</td>\n",
       "    </tr>\n",
       "    <tr>\n",
       "      <th>9468</th>\n",
       "      <td>NaN</td>\n",
       "      <td>NaN</td>\n",
       "      <td>NaN</td>\n",
       "      <td>NaN</td>\n",
       "      <td>NaN</td>\n",
       "      <td>NaN</td>\n",
       "      <td>NaN</td>\n",
       "      <td>NaN</td>\n",
       "      <td>NaN</td>\n",
       "      <td>NaN</td>\n",
       "      <td>NaN</td>\n",
       "      <td>NaN</td>\n",
       "      <td>NaN</td>\n",
       "      <td>NaN</td>\n",
       "      <td>NaN</td>\n",
       "    </tr>\n",
       "    <tr>\n",
       "      <th>9469</th>\n",
       "      <td>NaN</td>\n",
       "      <td>NaN</td>\n",
       "      <td>NaN</td>\n",
       "      <td>NaN</td>\n",
       "      <td>NaN</td>\n",
       "      <td>NaN</td>\n",
       "      <td>NaN</td>\n",
       "      <td>NaN</td>\n",
       "      <td>NaN</td>\n",
       "      <td>NaN</td>\n",
       "      <td>NaN</td>\n",
       "      <td>NaN</td>\n",
       "      <td>NaN</td>\n",
       "      <td>NaN</td>\n",
       "      <td>NaN</td>\n",
       "    </tr>\n",
       "    <tr>\n",
       "      <th>9470</th>\n",
       "      <td>NaN</td>\n",
       "      <td>NaN</td>\n",
       "      <td>NaN</td>\n",
       "      <td>NaN</td>\n",
       "      <td>NaN</td>\n",
       "      <td>NaN</td>\n",
       "      <td>NaN</td>\n",
       "      <td>NaN</td>\n",
       "      <td>NaN</td>\n",
       "      <td>NaN</td>\n",
       "      <td>NaN</td>\n",
       "      <td>NaN</td>\n",
       "      <td>NaN</td>\n",
       "      <td>NaN</td>\n",
       "      <td>NaN</td>\n",
       "    </tr>\n",
       "  </tbody>\n",
       "</table>\n",
       "<p>114 rows × 15 columns</p>\n",
       "</div>"
      ],
      "text/plain": [
       "     Date Time  CO_Concentration  CO_Sensor_Response  NMHC_Concentration  \\\n",
       "9357  NaN  NaN               NaN                 NaN                 NaN   \n",
       "9358  NaN  NaN               NaN                 NaN                 NaN   \n",
       "9359  NaN  NaN               NaN                 NaN                 NaN   \n",
       "9360  NaN  NaN               NaN                 NaN                 NaN   \n",
       "9361  NaN  NaN               NaN                 NaN                 NaN   \n",
       "...   ...  ...               ...                 ...                 ...   \n",
       "9466  NaN  NaN               NaN                 NaN                 NaN   \n",
       "9467  NaN  NaN               NaN                 NaN                 NaN   \n",
       "9468  NaN  NaN               NaN                 NaN                 NaN   \n",
       "9469  NaN  NaN               NaN                 NaN                 NaN   \n",
       "9470  NaN  NaN               NaN                 NaN                 NaN   \n",
       "\n",
       "      C6H6_Concentration  NMHC_Sensor_Response  NOx_Concentration  \\\n",
       "9357                 NaN                   NaN                NaN   \n",
       "9358                 NaN                   NaN                NaN   \n",
       "9359                 NaN                   NaN                NaN   \n",
       "9360                 NaN                   NaN                NaN   \n",
       "9361                 NaN                   NaN                NaN   \n",
       "...                  ...                   ...                ...   \n",
       "9466                 NaN                   NaN                NaN   \n",
       "9467                 NaN                   NaN                NaN   \n",
       "9468                 NaN                   NaN                NaN   \n",
       "9469                 NaN                   NaN                NaN   \n",
       "9470                 NaN                   NaN                NaN   \n",
       "\n",
       "      NOx_Sensor_Response  NO2_Concentration  NO2_Sensor_Response  \\\n",
       "9357                  NaN                NaN                  NaN   \n",
       "9358                  NaN                NaN                  NaN   \n",
       "9359                  NaN                NaN                  NaN   \n",
       "9360                  NaN                NaN                  NaN   \n",
       "9361                  NaN                NaN                  NaN   \n",
       "...                   ...                ...                  ...   \n",
       "9466                  NaN                NaN                  NaN   \n",
       "9467                  NaN                NaN                  NaN   \n",
       "9468                  NaN                NaN                  NaN   \n",
       "9469                  NaN                NaN                  NaN   \n",
       "9470                  NaN                NaN                  NaN   \n",
       "\n",
       "      O3_Sensor_Response  Temperature  Relative_Humidity  Absolute_Humidity  \n",
       "9357                 NaN          NaN                NaN                NaN  \n",
       "9358                 NaN          NaN                NaN                NaN  \n",
       "9359                 NaN          NaN                NaN                NaN  \n",
       "9360                 NaN          NaN                NaN                NaN  \n",
       "9361                 NaN          NaN                NaN                NaN  \n",
       "...                  ...          ...                ...                ...  \n",
       "9466                 NaN          NaN                NaN                NaN  \n",
       "9467                 NaN          NaN                NaN                NaN  \n",
       "9468                 NaN          NaN                NaN                NaN  \n",
       "9469                 NaN          NaN                NaN                NaN  \n",
       "9470                 NaN          NaN                NaN                NaN  \n",
       "\n",
       "[114 rows x 15 columns]"
      ]
     },
     "execution_count": 9,
     "metadata": {},
     "output_type": "execute_result"
    }
   ],
   "source": [
    "# Show all the rows with missing values\n",
    "missing_rows = df[df.isna().any(axis = 1)]\n",
    "missing_rows"
   ]
  },
  {
   "cell_type": "markdown",
   "metadata": {},
   "source": [
    "El conjunto de datos tiene un total de 114 valores faltantes, lo cual es un porcentaje relativamente bajo, aproximadamente el 1.2% de todo el conjunto de datos. Dado este pequeño porcentaje, eliminaré todas las filas con valores nulos. Dado que se trata de una serie temporal, utilizar un método de imputación como el fill forward podría crear valores duplicados, ya que simplemente llevaría hacia adelante la última entrada no NaN disponible. Por lo tanto, eliminar estas filas es el mejor método para mantener la integridad de los datos."
   ]
  },
  {
   "cell_type": "code",
   "execution_count": 10,
   "metadata": {},
   "outputs": [],
   "source": [
    "# Drop missing values\n",
    "df = df.dropna()"
   ]
  },
  {
   "cell_type": "markdown",
   "metadata": {},
   "source": [
    "La descripción del conjunto de datos indica que los valores faltantes están etiquetados con el valor -200. Por lo tanto, se buscarán todos los valores -200 y se reemplazarán por valores NaN."
   ]
  },
  {
   "cell_type": "code",
   "execution_count": 11,
   "metadata": {},
   "outputs": [
    {
     "data": {
      "text/plain": [
       "Date                       0\n",
       "Time                       0\n",
       "CO_Concentration        1683\n",
       "CO_Sensor_Response       366\n",
       "NMHC_Concentration      8443\n",
       "C6H6_Concentration       366\n",
       "NMHC_Sensor_Response     366\n",
       "NOx_Concentration       1639\n",
       "NOx_Sensor_Response      366\n",
       "NO2_Concentration       1642\n",
       "NO2_Sensor_Response      366\n",
       "O3_Sensor_Response       366\n",
       "Temperature              366\n",
       "Relative_Humidity        366\n",
       "Absolute_Humidity        366\n",
       "dtype: int64"
      ]
     },
     "execution_count": 11,
     "metadata": {},
     "output_type": "execute_result"
    }
   ],
   "source": [
    "# Count -200 values in each column\n",
    "df.apply(lambda x : x == -200).sum()"
   ]
  },
  {
   "cell_type": "markdown",
   "metadata": {},
   "source": [
    "El análisis del conteo de valores -200 muestra claramente que la característica **\"NMHC_Concentration\"** tiene una cantidad significativa de valores nulos. Por esta razón, esta columna se eliminará directamente del conjunto de datos. Posteriormente, todas las instancias de -200 se reemplazarán por valores NaN y se imputarán siguiendo el método de relleno hacia adelante, el cual es adecuado para las series temporales."
   ]
  },
  {
   "cell_type": "code",
   "execution_count": 12,
   "metadata": {},
   "outputs": [],
   "source": [
    "# Drop the colum with too many missing values\n",
    "df.drop(columns = [\"NMHC_Concentration\"], inplace = True)"
   ]
  },
  {
   "cell_type": "code",
   "execution_count": 13,
   "metadata": {},
   "outputs": [],
   "source": [
    "# Replace values with NaN\n",
    "df.replace(to_replace = -200, value = np.nan, inplace = True)"
   ]
  },
  {
   "cell_type": "code",
   "execution_count": 14,
   "metadata": {},
   "outputs": [],
   "source": [
    "# Forward fill missing values\n",
    "df.ffill(inplace = True)"
   ]
  },
  {
   "cell_type": "code",
   "execution_count": 15,
   "metadata": {},
   "outputs": [
    {
     "data": {
      "text/plain": [
       "Date                    0\n",
       "Time                    0\n",
       "CO_Concentration        0\n",
       "CO_Sensor_Response      0\n",
       "C6H6_Concentration      0\n",
       "NMHC_Sensor_Response    0\n",
       "NOx_Concentration       0\n",
       "NOx_Sensor_Response     0\n",
       "NO2_Concentration       0\n",
       "NO2_Sensor_Response     0\n",
       "O3_Sensor_Response      0\n",
       "Temperature             0\n",
       "Relative_Humidity       0\n",
       "Absolute_Humidity       0\n",
       "dtype: int64"
      ]
     },
     "execution_count": 15,
     "metadata": {},
     "output_type": "execute_result"
    }
   ],
   "source": [
    "# Check remaining missing values\n",
    "df.isna().sum()"
   ]
  },
  {
   "cell_type": "markdown",
   "metadata": {},
   "source": [
    "* **Valores duplicados**\n",
    "\n",
    "Verifica si hay entradas duplicadas en el conjunto de datos."
   ]
  },
  {
   "cell_type": "code",
   "execution_count": 16,
   "metadata": {},
   "outputs": [
    {
     "data": {
      "text/plain": [
       "np.int64(0)"
      ]
     },
     "execution_count": 16,
     "metadata": {},
     "output_type": "execute_result"
    }
   ],
   "source": [
    "df.duplicated().sum()"
   ]
  },
  {
   "cell_type": "markdown",
   "metadata": {},
   "source": [
    "El dataset no tiene valores duplicados."
   ]
  },
  {
   "cell_type": "markdown",
   "metadata": {},
   "source": [
    "* **Tipos de datos**\n",
    "\n",
    "Verifica que todas las columnas tengan los tipos de datos apropiados."
   ]
  },
  {
   "cell_type": "code",
   "execution_count": 17,
   "metadata": {},
   "outputs": [
    {
     "data": {
      "text/plain": [
       "Date                     object\n",
       "Time                     object\n",
       "CO_Concentration        float64\n",
       "CO_Sensor_Response      float64\n",
       "C6H6_Concentration      float64\n",
       "NMHC_Sensor_Response    float64\n",
       "NOx_Concentration       float64\n",
       "NOx_Sensor_Response     float64\n",
       "NO2_Concentration       float64\n",
       "NO2_Sensor_Response     float64\n",
       "O3_Sensor_Response      float64\n",
       "Temperature             float64\n",
       "Relative_Humidity       float64\n",
       "Absolute_Humidity       float64\n",
       "dtype: object"
      ]
     },
     "execution_count": 17,
     "metadata": {},
     "output_type": "execute_result"
    }
   ],
   "source": [
    "df.dtypes"
   ]
  },
  {
   "cell_type": "markdown",
   "metadata": {},
   "source": [
    "Las columnas **\"Date\"** y **\"Time\"** están configuradas como tipos objeto, por lo que necesitan ser convertidas al tipo datetime."
   ]
  },
  {
   "cell_type": "code",
   "execution_count": 18,
   "metadata": {},
   "outputs": [
    {
     "data": {
      "text/html": [
       "<div>\n",
       "<style scoped>\n",
       "    .dataframe tbody tr th:only-of-type {\n",
       "        vertical-align: middle;\n",
       "    }\n",
       "\n",
       "    .dataframe tbody tr th {\n",
       "        vertical-align: top;\n",
       "    }\n",
       "\n",
       "    .dataframe thead th {\n",
       "        text-align: right;\n",
       "    }\n",
       "</style>\n",
       "<table border=\"1\" class=\"dataframe\">\n",
       "  <thead>\n",
       "    <tr style=\"text-align: right;\">\n",
       "      <th></th>\n",
       "      <th>CO_Concentration</th>\n",
       "      <th>CO_Sensor_Response</th>\n",
       "      <th>C6H6_Concentration</th>\n",
       "      <th>NMHC_Sensor_Response</th>\n",
       "      <th>NOx_Concentration</th>\n",
       "      <th>NOx_Sensor_Response</th>\n",
       "      <th>NO2_Concentration</th>\n",
       "      <th>NO2_Sensor_Response</th>\n",
       "      <th>O3_Sensor_Response</th>\n",
       "      <th>Temperature</th>\n",
       "      <th>Relative_Humidity</th>\n",
       "      <th>Absolute_Humidity</th>\n",
       "    </tr>\n",
       "    <tr>\n",
       "      <th>Datetime</th>\n",
       "      <th></th>\n",
       "      <th></th>\n",
       "      <th></th>\n",
       "      <th></th>\n",
       "      <th></th>\n",
       "      <th></th>\n",
       "      <th></th>\n",
       "      <th></th>\n",
       "      <th></th>\n",
       "      <th></th>\n",
       "      <th></th>\n",
       "      <th></th>\n",
       "    </tr>\n",
       "  </thead>\n",
       "  <tbody>\n",
       "    <tr>\n",
       "      <th>2004-03-10 18:00:00</th>\n",
       "      <td>2.6</td>\n",
       "      <td>1360.0</td>\n",
       "      <td>11.9</td>\n",
       "      <td>1046.0</td>\n",
       "      <td>166.0</td>\n",
       "      <td>1056.0</td>\n",
       "      <td>113.0</td>\n",
       "      <td>1692.0</td>\n",
       "      <td>1268.0</td>\n",
       "      <td>13.6</td>\n",
       "      <td>48.9</td>\n",
       "      <td>0.7578</td>\n",
       "    </tr>\n",
       "    <tr>\n",
       "      <th>2004-03-10 19:00:00</th>\n",
       "      <td>2.0</td>\n",
       "      <td>1292.0</td>\n",
       "      <td>9.4</td>\n",
       "      <td>955.0</td>\n",
       "      <td>103.0</td>\n",
       "      <td>1174.0</td>\n",
       "      <td>92.0</td>\n",
       "      <td>1559.0</td>\n",
       "      <td>972.0</td>\n",
       "      <td>13.3</td>\n",
       "      <td>47.7</td>\n",
       "      <td>0.7255</td>\n",
       "    </tr>\n",
       "    <tr>\n",
       "      <th>2004-03-10 20:00:00</th>\n",
       "      <td>2.2</td>\n",
       "      <td>1402.0</td>\n",
       "      <td>9.0</td>\n",
       "      <td>939.0</td>\n",
       "      <td>131.0</td>\n",
       "      <td>1140.0</td>\n",
       "      <td>114.0</td>\n",
       "      <td>1555.0</td>\n",
       "      <td>1074.0</td>\n",
       "      <td>11.9</td>\n",
       "      <td>54.0</td>\n",
       "      <td>0.7502</td>\n",
       "    </tr>\n",
       "    <tr>\n",
       "      <th>2004-03-10 21:00:00</th>\n",
       "      <td>2.2</td>\n",
       "      <td>1376.0</td>\n",
       "      <td>9.2</td>\n",
       "      <td>948.0</td>\n",
       "      <td>172.0</td>\n",
       "      <td>1092.0</td>\n",
       "      <td>122.0</td>\n",
       "      <td>1584.0</td>\n",
       "      <td>1203.0</td>\n",
       "      <td>11.0</td>\n",
       "      <td>60.0</td>\n",
       "      <td>0.7867</td>\n",
       "    </tr>\n",
       "    <tr>\n",
       "      <th>2004-03-10 22:00:00</th>\n",
       "      <td>1.6</td>\n",
       "      <td>1272.0</td>\n",
       "      <td>6.5</td>\n",
       "      <td>836.0</td>\n",
       "      <td>131.0</td>\n",
       "      <td>1205.0</td>\n",
       "      <td>116.0</td>\n",
       "      <td>1490.0</td>\n",
       "      <td>1110.0</td>\n",
       "      <td>11.2</td>\n",
       "      <td>59.6</td>\n",
       "      <td>0.7888</td>\n",
       "    </tr>\n",
       "    <tr>\n",
       "      <th>...</th>\n",
       "      <td>...</td>\n",
       "      <td>...</td>\n",
       "      <td>...</td>\n",
       "      <td>...</td>\n",
       "      <td>...</td>\n",
       "      <td>...</td>\n",
       "      <td>...</td>\n",
       "      <td>...</td>\n",
       "      <td>...</td>\n",
       "      <td>...</td>\n",
       "      <td>...</td>\n",
       "      <td>...</td>\n",
       "    </tr>\n",
       "    <tr>\n",
       "      <th>2005-04-04 10:00:00</th>\n",
       "      <td>3.1</td>\n",
       "      <td>1314.0</td>\n",
       "      <td>13.5</td>\n",
       "      <td>1101.0</td>\n",
       "      <td>472.0</td>\n",
       "      <td>539.0</td>\n",
       "      <td>190.0</td>\n",
       "      <td>1374.0</td>\n",
       "      <td>1729.0</td>\n",
       "      <td>21.9</td>\n",
       "      <td>29.3</td>\n",
       "      <td>0.7568</td>\n",
       "    </tr>\n",
       "    <tr>\n",
       "      <th>2005-04-04 11:00:00</th>\n",
       "      <td>2.4</td>\n",
       "      <td>1163.0</td>\n",
       "      <td>11.4</td>\n",
       "      <td>1027.0</td>\n",
       "      <td>353.0</td>\n",
       "      <td>604.0</td>\n",
       "      <td>179.0</td>\n",
       "      <td>1264.0</td>\n",
       "      <td>1269.0</td>\n",
       "      <td>24.3</td>\n",
       "      <td>23.7</td>\n",
       "      <td>0.7119</td>\n",
       "    </tr>\n",
       "    <tr>\n",
       "      <th>2005-04-04 12:00:00</th>\n",
       "      <td>2.4</td>\n",
       "      <td>1142.0</td>\n",
       "      <td>12.4</td>\n",
       "      <td>1063.0</td>\n",
       "      <td>293.0</td>\n",
       "      <td>603.0</td>\n",
       "      <td>175.0</td>\n",
       "      <td>1241.0</td>\n",
       "      <td>1092.0</td>\n",
       "      <td>26.9</td>\n",
       "      <td>18.3</td>\n",
       "      <td>0.6406</td>\n",
       "    </tr>\n",
       "    <tr>\n",
       "      <th>2005-04-04 13:00:00</th>\n",
       "      <td>2.1</td>\n",
       "      <td>1003.0</td>\n",
       "      <td>9.5</td>\n",
       "      <td>961.0</td>\n",
       "      <td>235.0</td>\n",
       "      <td>702.0</td>\n",
       "      <td>156.0</td>\n",
       "      <td>1041.0</td>\n",
       "      <td>770.0</td>\n",
       "      <td>28.3</td>\n",
       "      <td>13.5</td>\n",
       "      <td>0.5139</td>\n",
       "    </tr>\n",
       "    <tr>\n",
       "      <th>2005-04-04 14:00:00</th>\n",
       "      <td>2.2</td>\n",
       "      <td>1071.0</td>\n",
       "      <td>11.9</td>\n",
       "      <td>1047.0</td>\n",
       "      <td>265.0</td>\n",
       "      <td>654.0</td>\n",
       "      <td>168.0</td>\n",
       "      <td>1129.0</td>\n",
       "      <td>816.0</td>\n",
       "      <td>28.5</td>\n",
       "      <td>13.1</td>\n",
       "      <td>0.5028</td>\n",
       "    </tr>\n",
       "  </tbody>\n",
       "</table>\n",
       "<p>9357 rows × 12 columns</p>\n",
       "</div>"
      ],
      "text/plain": [
       "                     CO_Concentration  CO_Sensor_Response  C6H6_Concentration  \\\n",
       "Datetime                                                                        \n",
       "2004-03-10 18:00:00               2.6              1360.0                11.9   \n",
       "2004-03-10 19:00:00               2.0              1292.0                 9.4   \n",
       "2004-03-10 20:00:00               2.2              1402.0                 9.0   \n",
       "2004-03-10 21:00:00               2.2              1376.0                 9.2   \n",
       "2004-03-10 22:00:00               1.6              1272.0                 6.5   \n",
       "...                               ...                 ...                 ...   \n",
       "2005-04-04 10:00:00               3.1              1314.0                13.5   \n",
       "2005-04-04 11:00:00               2.4              1163.0                11.4   \n",
       "2005-04-04 12:00:00               2.4              1142.0                12.4   \n",
       "2005-04-04 13:00:00               2.1              1003.0                 9.5   \n",
       "2005-04-04 14:00:00               2.2              1071.0                11.9   \n",
       "\n",
       "                     NMHC_Sensor_Response  NOx_Concentration  \\\n",
       "Datetime                                                       \n",
       "2004-03-10 18:00:00                1046.0              166.0   \n",
       "2004-03-10 19:00:00                 955.0              103.0   \n",
       "2004-03-10 20:00:00                 939.0              131.0   \n",
       "2004-03-10 21:00:00                 948.0              172.0   \n",
       "2004-03-10 22:00:00                 836.0              131.0   \n",
       "...                                   ...                ...   \n",
       "2005-04-04 10:00:00                1101.0              472.0   \n",
       "2005-04-04 11:00:00                1027.0              353.0   \n",
       "2005-04-04 12:00:00                1063.0              293.0   \n",
       "2005-04-04 13:00:00                 961.0              235.0   \n",
       "2005-04-04 14:00:00                1047.0              265.0   \n",
       "\n",
       "                     NOx_Sensor_Response  NO2_Concentration  \\\n",
       "Datetime                                                      \n",
       "2004-03-10 18:00:00               1056.0              113.0   \n",
       "2004-03-10 19:00:00               1174.0               92.0   \n",
       "2004-03-10 20:00:00               1140.0              114.0   \n",
       "2004-03-10 21:00:00               1092.0              122.0   \n",
       "2004-03-10 22:00:00               1205.0              116.0   \n",
       "...                                  ...                ...   \n",
       "2005-04-04 10:00:00                539.0              190.0   \n",
       "2005-04-04 11:00:00                604.0              179.0   \n",
       "2005-04-04 12:00:00                603.0              175.0   \n",
       "2005-04-04 13:00:00                702.0              156.0   \n",
       "2005-04-04 14:00:00                654.0              168.0   \n",
       "\n",
       "                     NO2_Sensor_Response  O3_Sensor_Response  Temperature  \\\n",
       "Datetime                                                                    \n",
       "2004-03-10 18:00:00               1692.0              1268.0         13.6   \n",
       "2004-03-10 19:00:00               1559.0               972.0         13.3   \n",
       "2004-03-10 20:00:00               1555.0              1074.0         11.9   \n",
       "2004-03-10 21:00:00               1584.0              1203.0         11.0   \n",
       "2004-03-10 22:00:00               1490.0              1110.0         11.2   \n",
       "...                                  ...                 ...          ...   \n",
       "2005-04-04 10:00:00               1374.0              1729.0         21.9   \n",
       "2005-04-04 11:00:00               1264.0              1269.0         24.3   \n",
       "2005-04-04 12:00:00               1241.0              1092.0         26.9   \n",
       "2005-04-04 13:00:00               1041.0               770.0         28.3   \n",
       "2005-04-04 14:00:00               1129.0               816.0         28.5   \n",
       "\n",
       "                     Relative_Humidity  Absolute_Humidity  \n",
       "Datetime                                                   \n",
       "2004-03-10 18:00:00               48.9             0.7578  \n",
       "2004-03-10 19:00:00               47.7             0.7255  \n",
       "2004-03-10 20:00:00               54.0             0.7502  \n",
       "2004-03-10 21:00:00               60.0             0.7867  \n",
       "2004-03-10 22:00:00               59.6             0.7888  \n",
       "...                                ...                ...  \n",
       "2005-04-04 10:00:00               29.3             0.7568  \n",
       "2005-04-04 11:00:00               23.7             0.7119  \n",
       "2005-04-04 12:00:00               18.3             0.6406  \n",
       "2005-04-04 13:00:00               13.5             0.5139  \n",
       "2005-04-04 14:00:00               13.1             0.5028  \n",
       "\n",
       "[9357 rows x 12 columns]"
      ]
     },
     "execution_count": 18,
     "metadata": {},
     "output_type": "execute_result"
    }
   ],
   "source": [
    "# Create new feature with date and time\n",
    "df[\"Datetime\"] = pd.to_datetime(df[\"Date\"] + \" \" + df[\"Time\"], format = \"%d/%m/%Y %H.%M.%S\")\n",
    "\n",
    "# Set the new feature as the index\n",
    "df = df.set_index(\"Datetime\")\n",
    "\n",
    "# Drop the unnecesary columns\n",
    "df = df.drop([\"Date\", \"Time\"], axis = 1)\n",
    "df"
   ]
  },
  {
   "cell_type": "code",
   "execution_count": 19,
   "metadata": {},
   "outputs": [
    {
     "data": {
      "text/plain": [
       "CO_Concentration        0\n",
       "CO_Sensor_Response      0\n",
       "C6H6_Concentration      0\n",
       "NMHC_Sensor_Response    0\n",
       "NOx_Concentration       0\n",
       "NOx_Sensor_Response     0\n",
       "NO2_Concentration       0\n",
       "NO2_Sensor_Response     0\n",
       "O3_Sensor_Response      0\n",
       "Temperature             0\n",
       "Relative_Humidity       0\n",
       "Absolute_Humidity       0\n",
       "dtype: int64"
      ]
     },
     "execution_count": 19,
     "metadata": {},
     "output_type": "execute_result"
    }
   ],
   "source": [
    "# Check again for missing values after transformation\n",
    "df.isna().sum()"
   ]
  },
  {
   "cell_type": "markdown",
   "metadata": {},
   "source": [
    "* **Outliers**\n",
    "\n",
    "Examina el resumen estadístico del conjunto de datos para identificar posibles valores atípicos. Esta visión general inicial ayudará a resaltar cualquier valor inusual que pueda requerir una exploración adicional."
   ]
  },
  {
   "cell_type": "code",
   "execution_count": 20,
   "metadata": {},
   "outputs": [
    {
     "data": {
      "text/html": [
       "<div>\n",
       "<style scoped>\n",
       "    .dataframe tbody tr th:only-of-type {\n",
       "        vertical-align: middle;\n",
       "    }\n",
       "\n",
       "    .dataframe tbody tr th {\n",
       "        vertical-align: top;\n",
       "    }\n",
       "\n",
       "    .dataframe thead th {\n",
       "        text-align: right;\n",
       "    }\n",
       "</style>\n",
       "<table border=\"1\" class=\"dataframe\">\n",
       "  <thead>\n",
       "    <tr style=\"text-align: right;\">\n",
       "      <th></th>\n",
       "      <th>count</th>\n",
       "      <th>mean</th>\n",
       "      <th>std</th>\n",
       "      <th>min</th>\n",
       "      <th>25%</th>\n",
       "      <th>50%</th>\n",
       "      <th>75%</th>\n",
       "      <th>max</th>\n",
       "    </tr>\n",
       "  </thead>\n",
       "  <tbody>\n",
       "    <tr>\n",
       "      <th>CO_Concentration</th>\n",
       "      <td>9357.0</td>\n",
       "      <td>2.082195</td>\n",
       "      <td>1.469801</td>\n",
       "      <td>0.1000</td>\n",
       "      <td>1.0000</td>\n",
       "      <td>1.7000</td>\n",
       "      <td>2.8000</td>\n",
       "      <td>11.900</td>\n",
       "    </tr>\n",
       "    <tr>\n",
       "      <th>CO_Sensor_Response</th>\n",
       "      <td>9357.0</td>\n",
       "      <td>1102.730362</td>\n",
       "      <td>219.588101</td>\n",
       "      <td>647.0000</td>\n",
       "      <td>938.0000</td>\n",
       "      <td>1062.0000</td>\n",
       "      <td>1237.0000</td>\n",
       "      <td>2040.000</td>\n",
       "    </tr>\n",
       "    <tr>\n",
       "      <th>C6H6_Concentration</th>\n",
       "      <td>9357.0</td>\n",
       "      <td>10.190392</td>\n",
       "      <td>7.565771</td>\n",
       "      <td>0.1000</td>\n",
       "      <td>4.4000</td>\n",
       "      <td>8.3000</td>\n",
       "      <td>14.0000</td>\n",
       "      <td>63.700</td>\n",
       "    </tr>\n",
       "    <tr>\n",
       "      <th>NMHC_Sensor_Response</th>\n",
       "      <td>9357.0</td>\n",
       "      <td>942.548253</td>\n",
       "      <td>269.581368</td>\n",
       "      <td>383.0000</td>\n",
       "      <td>733.0000</td>\n",
       "      <td>911.0000</td>\n",
       "      <td>1117.0000</td>\n",
       "      <td>2214.000</td>\n",
       "    </tr>\n",
       "    <tr>\n",
       "      <th>NOx_Concentration</th>\n",
       "      <td>9357.0</td>\n",
       "      <td>240.731217</td>\n",
       "      <td>206.618453</td>\n",
       "      <td>2.0000</td>\n",
       "      <td>97.0000</td>\n",
       "      <td>174.0000</td>\n",
       "      <td>318.0000</td>\n",
       "      <td>1479.000</td>\n",
       "    </tr>\n",
       "    <tr>\n",
       "      <th>NOx_Sensor_Response</th>\n",
       "      <td>9357.0</td>\n",
       "      <td>832.742225</td>\n",
       "      <td>255.709423</td>\n",
       "      <td>322.0000</td>\n",
       "      <td>655.0000</td>\n",
       "      <td>807.0000</td>\n",
       "      <td>968.0000</td>\n",
       "      <td>2683.000</td>\n",
       "    </tr>\n",
       "    <tr>\n",
       "      <th>NO2_Concentration</th>\n",
       "      <td>9357.0</td>\n",
       "      <td>109.414877</td>\n",
       "      <td>47.221662</td>\n",
       "      <td>2.0000</td>\n",
       "      <td>73.0000</td>\n",
       "      <td>102.0000</td>\n",
       "      <td>137.0000</td>\n",
       "      <td>340.000</td>\n",
       "    </tr>\n",
       "    <tr>\n",
       "      <th>NO2_Sensor_Response</th>\n",
       "      <td>9357.0</td>\n",
       "      <td>1453.014535</td>\n",
       "      <td>347.434084</td>\n",
       "      <td>551.0000</td>\n",
       "      <td>1228.0000</td>\n",
       "      <td>1460.0000</td>\n",
       "      <td>1677.0000</td>\n",
       "      <td>2775.000</td>\n",
       "    </tr>\n",
       "    <tr>\n",
       "      <th>O3_Sensor_Response</th>\n",
       "      <td>9357.0</td>\n",
       "      <td>1030.511916</td>\n",
       "      <td>410.916759</td>\n",
       "      <td>221.0000</td>\n",
       "      <td>726.0000</td>\n",
       "      <td>964.0000</td>\n",
       "      <td>1287.0000</td>\n",
       "      <td>2523.000</td>\n",
       "    </tr>\n",
       "    <tr>\n",
       "      <th>Temperature</th>\n",
       "      <td>9357.0</td>\n",
       "      <td>18.317356</td>\n",
       "      <td>8.821883</td>\n",
       "      <td>-1.9000</td>\n",
       "      <td>11.9000</td>\n",
       "      <td>17.6000</td>\n",
       "      <td>24.3000</td>\n",
       "      <td>44.600</td>\n",
       "    </tr>\n",
       "    <tr>\n",
       "      <th>Relative_Humidity</th>\n",
       "      <td>9357.0</td>\n",
       "      <td>48.817431</td>\n",
       "      <td>17.354326</td>\n",
       "      <td>9.2000</td>\n",
       "      <td>35.4000</td>\n",
       "      <td>48.9000</td>\n",
       "      <td>61.9000</td>\n",
       "      <td>88.700</td>\n",
       "    </tr>\n",
       "    <tr>\n",
       "      <th>Absolute_Humidity</th>\n",
       "      <td>9357.0</td>\n",
       "      <td>1.017382</td>\n",
       "      <td>0.404829</td>\n",
       "      <td>0.1847</td>\n",
       "      <td>0.7262</td>\n",
       "      <td>0.9875</td>\n",
       "      <td>1.3067</td>\n",
       "      <td>2.231</td>\n",
       "    </tr>\n",
       "  </tbody>\n",
       "</table>\n",
       "</div>"
      ],
      "text/plain": [
       "                       count         mean         std       min        25%  \\\n",
       "CO_Concentration      9357.0     2.082195    1.469801    0.1000     1.0000   \n",
       "CO_Sensor_Response    9357.0  1102.730362  219.588101  647.0000   938.0000   \n",
       "C6H6_Concentration    9357.0    10.190392    7.565771    0.1000     4.4000   \n",
       "NMHC_Sensor_Response  9357.0   942.548253  269.581368  383.0000   733.0000   \n",
       "NOx_Concentration     9357.0   240.731217  206.618453    2.0000    97.0000   \n",
       "NOx_Sensor_Response   9357.0   832.742225  255.709423  322.0000   655.0000   \n",
       "NO2_Concentration     9357.0   109.414877   47.221662    2.0000    73.0000   \n",
       "NO2_Sensor_Response   9357.0  1453.014535  347.434084  551.0000  1228.0000   \n",
       "O3_Sensor_Response    9357.0  1030.511916  410.916759  221.0000   726.0000   \n",
       "Temperature           9357.0    18.317356    8.821883   -1.9000    11.9000   \n",
       "Relative_Humidity     9357.0    48.817431   17.354326    9.2000    35.4000   \n",
       "Absolute_Humidity     9357.0     1.017382    0.404829    0.1847     0.7262   \n",
       "\n",
       "                            50%        75%       max  \n",
       "CO_Concentration         1.7000     2.8000    11.900  \n",
       "CO_Sensor_Response    1062.0000  1237.0000  2040.000  \n",
       "C6H6_Concentration       8.3000    14.0000    63.700  \n",
       "NMHC_Sensor_Response   911.0000  1117.0000  2214.000  \n",
       "NOx_Concentration      174.0000   318.0000  1479.000  \n",
       "NOx_Sensor_Response    807.0000   968.0000  2683.000  \n",
       "NO2_Concentration      102.0000   137.0000   340.000  \n",
       "NO2_Sensor_Response   1460.0000  1677.0000  2775.000  \n",
       "O3_Sensor_Response     964.0000  1287.0000  2523.000  \n",
       "Temperature             17.6000    24.3000    44.600  \n",
       "Relative_Humidity       48.9000    61.9000    88.700  \n",
       "Absolute_Humidity        0.9875     1.3067     2.231  "
      ]
     },
     "execution_count": 20,
     "metadata": {},
     "output_type": "execute_result"
    }
   ],
   "source": [
    "df.describe().T"
   ]
  },
  {
   "cell_type": "markdown",
   "metadata": {},
   "source": [
    "A partir de las estadísticas resumidas del conjunto de datos, es evidente que las siguientes variables muestran discrepancias importantes entre sus valores máximos y el cuartil superior, lo que indica la existencia de posibles valores atípicos.\n",
    "\n",
    "- CO_Concentration\n",
    "- C6H6_Concentration\n",
    "- NOx_Concentration\n",
    "\n",
    "Primero, se trazarán graficas de estas variables para identificar posibles valores atípicos. Luego, los valores atípicos se identificarán utilizando el método del rango intercuartílico (IQR). El análisis de la distribución de los datos revelará los valores que están fuera del rango típico, lo que permitirá seleccionar un enfoque adecuado para manejarlos."
   ]
  },
  {
   "cell_type": "code",
   "execution_count": 21,
   "metadata": {},
   "outputs": [
    {
     "data": {
      "text/plain": [
       "Text(0.5, 0.98, 'Distribución de la concentración de CO')"
      ]
     },
     "execution_count": 21,
     "metadata": {},
     "output_type": "execute_result"
    },
    {
     "data": {
      "text/plain": [
       "<Figure size 640x480 with 0 Axes>"
      ]
     },
     "metadata": {},
     "output_type": "display_data"
    },
    {
     "data": {
      "image/png": "[encoded data removed]",
      "text/plain": [
       "<Figure size 1100x300 with 2 Axes>"
      ]
     },
     "metadata": {},
     "output_type": "display_data"
    }
   ],
   "source": [
    "# Plot the CO concentration distribution using a histogram and boxplot\n",
    "CO_concentration_distribution = plt.figure()\n",
    "fig, ax = plt.subplots(1, 2, figsize = (11, 3))\n",
    "sns.histplot(df[\"CO_Concentration\"], ax = ax[0], color = \"#e7298a\")\n",
    "sns.boxplot(x = df[\"CO_Concentration\"], ax = ax[1], color = \"#e7298a\")\n",
    "ax[0].set_xlabel(\"Concentración de CO\")\n",
    "ax[1].set_xlabel(\"Concentración de CO\")\n",
    "plt.suptitle(\"Distribución de la concentración de CO\", size = 12)"
   ]
  },
  {
   "cell_type": "code",
   "execution_count": 22,
   "metadata": {},
   "outputs": [
    {
     "data": {
      "text/plain": [
       "Text(0.5, 0.98, 'Distribución de la concentración de C$_6$H$_6$')"
      ]
     },
     "execution_count": 22,
     "metadata": {},
     "output_type": "execute_result"
    },
    {
     "data": {
      "text/plain": [
       "<Figure size 640x480 with 0 Axes>"
      ]
     },
     "metadata": {},
     "output_type": "display_data"
    },
    {
     "data": {
      "image/png": "[encoded data removed]",
      "text/plain": [
       "<Figure size 1100x300 with 2 Axes>"
      ]
     },
     "metadata": {},
     "output_type": "display_data"
    }
   ],
   "source": [
    "# Plot the C6H6 concentration distribution using a histogram and boxplot\n",
    "C6H6_concentration_distribution = plt.figure()\n",
    "fig, ax = plt.subplots(1, 2, figsize = (11, 3))\n",
    "sns.histplot(df[\"C6H6_Concentration\"], ax = ax[0], color = \"#e7298a\")\n",
    "sns.boxplot(x = df[\"C6H6_Concentration\"], ax = ax[1], color = \"#e7298a\")\n",
    "ax[0].set_xlabel(\"Concentración de C$_6$H$_6$\")\n",
    "ax[1].set_xlabel(\"Concentración de C$_6$H$_6$\")\n",
    "plt.suptitle(\"Distribución de la concentración de C$_6$H$_6$\", size = 12)"
   ]
  },
  {
   "cell_type": "code",
   "execution_count": 23,
   "metadata": {},
   "outputs": [
    {
     "data": {
      "text/plain": [
       "Text(0.5, 0.98, 'Distribución de la concentración de NO$_x$')"
      ]
     },
     "execution_count": 23,
     "metadata": {},
     "output_type": "execute_result"
    },
    {
     "data": {
      "text/plain": [
       "<Figure size 640x480 with 0 Axes>"
      ]
     },
     "metadata": {},
     "output_type": "display_data"
    },
    {
     "data": {
      "image/png": "[encoded data removed]",
      "text/plain": [
       "<Figure size 1100x300 with 2 Axes>"
      ]
     },
     "metadata": {},
     "output_type": "display_data"
    }
   ],
   "source": [
    "# Plot the NOx concentration distribution using a histogram and boxplot\n",
    "NOx_concentration_distribution = plt.figure()\n",
    "fig, ax = plt.subplots(1, 2, figsize = (11, 3))\n",
    "sns.histplot(df[\"NOx_Concentration\"], ax = ax[0], color = \"#e7298a\")\n",
    "sns.boxplot(x = df[\"NOx_Concentration\"], ax = ax[1], color = \"#e7298a\")\n",
    "ax[0].set_xlabel(\"Concentración de NO$_x$\")\n",
    "ax[1].set_xlabel(\"Concentración de NO$_x$\")\n",
    "plt.suptitle(\"Distribución de la concentración de NO$_x$\", size = 12)"
   ]
  },
  {
   "cell_type": "markdown",
   "metadata": {},
   "source": [
    "Encuentra los valores atípicos utilizando el método del rango intercuartílico (IQR)."
   ]
  },
  {
   "cell_type": "code",
   "execution_count": 24,
   "metadata": {},
   "outputs": [],
   "source": [
    "# Create a function to find outliers using the IQR method\n",
    "\n",
    "def find_outliers_iqr(dataframe, column):\n",
    "    \"\"\"\n",
    "    Finds outliers in the specified column of a DataFrame using the IQR method\n",
    "\n",
    "    Parameters\n",
    "    ----------\n",
    "    dataframe : Pandas DataFrame\n",
    "        The DataFrame containing the data\n",
    "    \n",
    "    column : str\n",
    "        The name of the column (as a string) in which to find the outliers\n",
    "\n",
    "    Returns\n",
    "    -------\n",
    "    Pandas DataFrame\n",
    "        A DataFrame containing the outliers identified in the specified column\n",
    "   \"\"\"\n",
    "    # Calculate Q1 (25th percentile) and Q3 (75th percentile)\n",
    "    Q1 = dataframe[column].quantile(0.25)\n",
    "    Q3 = dataframe[column].quantile(0.75)\n",
    "    \n",
    "    # Calculate IQR\n",
    "    IQR = Q3 - Q1\n",
    "    \n",
    "    # Determine the bounds for outliers\n",
    "    lower_bound = Q1 - 1.5 * IQR\n",
    "    upper_bound = Q3 + 1.5 * IQR\n",
    "    \n",
    "    # Identify outliers\n",
    "    outliers = dataframe[(dataframe[column] < lower_bound) | (dataframe[column] > upper_bound)]\n",
    "    print(f\"The number of outliers in the column {column} is {outliers.shape[0]}\")\n",
    "    \n",
    "    return outliers"
   ]
  },
  {
   "cell_type": "code",
   "execution_count": 25,
   "metadata": {},
   "outputs": [
    {
     "name": "stdout",
     "output_type": "stream",
     "text": [
      "The number of outliers in the column CO_Concentration is 403\n",
      "The number of outliers in the column CO_Sensor_Response is 105\n",
      "The number of outliers in the column C6H6_Concentration is 236\n",
      "The number of outliers in the column NMHC_Sensor_Response is 61\n",
      "The number of outliers in the column NOx_Concentration is 510\n",
      "The number of outliers in the column NOx_Sensor_Response is 240\n",
      "The number of outliers in the column NO2_Concentration is 123\n",
      "The number of outliers in the column NO2_Sensor_Response is 95\n",
      "The number of outliers in the column O3_Sensor_Response is 72\n",
      "The number of outliers in the column Temperature is 4\n",
      "The number of outliers in the column Relative_Humidity is 0\n",
      "The number of outliers in the column Absolute_Humidity is 2\n"
     ]
    }
   ],
   "source": [
    "# Find outliers in the dataset\n",
    "for i in df.columns:\n",
    "    find_outliers_iqr(df, i)"
   ]
  },
  {
   "cell_type": "markdown",
   "metadata": {},
   "source": [
    "A partir del análisis estadístico de los valores atípicos, se puede concluir que hay una gran cantidad de valores fuera de rango. Teniendo en cuenta la naturaleza de las características, los valores atípicos podrían estar presentes debido a picos de contaminación en el aire. Por lo tanto, estos datos podrían ser relevantes. Sin embargo, la presencia de valores atípicos puede afectar el rendimiento del modelo que se utilizarán posteriormente para predecir los 100 ciclos. Por estas razones, he decidido limitar los valores atípicos para conservar todos los datos, pero reducir el posible impacto negativo que puedan tener en el modelo predictivo."
   ]
  },
  {
   "cell_type": "code",
   "execution_count": 26,
   "metadata": {},
   "outputs": [],
   "source": [
    "def cap_outliers(dataframe, column):\n",
    "    \"\"\"\n",
    "    Cap outliers in a specified column of the DataFrame using the IQR method\n",
    "\n",
    "    Parameters\n",
    "    ----------\n",
    "    dataframe : Pandas DataFrame\n",
    "        The DataFrame containing the data\n",
    "    \n",
    "    column : str\n",
    "        The name of the column to cap outliers\n",
    "\n",
    "\n",
    "    Returns\n",
    "    -------\n",
    "    Pandas DataFrame\n",
    "        A DataFrame with outliers capped\n",
    "    \"\"\"\n",
    "    if column not in dataframe.columns:\n",
    "        raise ValueError(f\"Column '{column}' not found in DataFrame.\")\n",
    "    \n",
    "    # Calculate Q1 and Q3\n",
    "    Q1 = dataframe[column].quantile(0.25)\n",
    "    Q3 = dataframe[column].quantile(0.75)\n",
    "\n",
    "    # Calculate IQR\n",
    "\n",
    "    IQR = Q3 - Q1\n",
    "\n",
    "    # Define bounds for outliers\n",
    "    lower_bound = Q1 - 1.5 * IQR\n",
    "    upper_bound = Q3 + 1.5 * IQR\n",
    "\n",
    "    # Cap the outliers\n",
    "    dataframe[column] = dataframe[column].clip(lower = lower_bound, upper = upper_bound)\n",
    "\n",
    "    return dataframe"
   ]
  },
  {
   "cell_type": "code",
   "execution_count": 27,
   "metadata": {},
   "outputs": [],
   "source": [
    "# Cap outliers\n",
    "for i in df.columns:\n",
    "    cap_outliers(df, i)"
   ]
  },
  {
   "cell_type": "markdown",
   "metadata": {},
   "source": [
    "La distribución de las características después de limitar los outliers es la siguiente: "
   ]
  },
  {
   "cell_type": "code",
   "execution_count": 28,
   "metadata": {},
   "outputs": [
    {
     "data": {
      "text/plain": [
       "Text(0.5, 0.98, 'Distribución de las características')"
      ]
     },
     "execution_count": 28,
     "metadata": {},
     "output_type": "execute_result"
    },
    {
     "data": {
      "image/png": "[encoded data removed]",
      "text/plain": [
       "<Figure size 2000x1000 with 12 Axes>"
      ]
     },
     "metadata": {},
     "output_type": "display_data"
    }
   ],
   "source": [
    "df.hist(figsize = (20, 10), color = \"#e7298a\")\n",
    "plt.suptitle(\"Distribución de las características\")"
   ]
  },
  {
   "cell_type": "markdown",
   "metadata": {},
   "source": [
    "* **El conjunto de datos limpio:**"
   ]
  },
  {
   "cell_type": "code",
   "execution_count": 29,
   "metadata": {},
   "outputs": [
    {
     "data": {
      "text/html": [
       "<div>\n",
       "<style scoped>\n",
       "    .dataframe tbody tr th:only-of-type {\n",
       "        vertical-align: middle;\n",
       "    }\n",
       "\n",
       "    .dataframe tbody tr th {\n",
       "        vertical-align: top;\n",
       "    }\n",
       "\n",
       "    .dataframe thead th {\n",
       "        text-align: right;\n",
       "    }\n",
       "</style>\n",
       "<table border=\"1\" class=\"dataframe\">\n",
       "  <thead>\n",
       "    <tr style=\"text-align: right;\">\n",
       "      <th></th>\n",
       "      <th>CO_Concentration</th>\n",
       "      <th>CO_Sensor_Response</th>\n",
       "      <th>C6H6_Concentration</th>\n",
       "      <th>NMHC_Sensor_Response</th>\n",
       "      <th>NOx_Concentration</th>\n",
       "      <th>NOx_Sensor_Response</th>\n",
       "      <th>NO2_Concentration</th>\n",
       "      <th>NO2_Sensor_Response</th>\n",
       "      <th>O3_Sensor_Response</th>\n",
       "      <th>Temperature</th>\n",
       "      <th>Relative_Humidity</th>\n",
       "      <th>Absolute_Humidity</th>\n",
       "    </tr>\n",
       "    <tr>\n",
       "      <th>Datetime</th>\n",
       "      <th></th>\n",
       "      <th></th>\n",
       "      <th></th>\n",
       "      <th></th>\n",
       "      <th></th>\n",
       "      <th></th>\n",
       "      <th></th>\n",
       "      <th></th>\n",
       "      <th></th>\n",
       "      <th></th>\n",
       "      <th></th>\n",
       "      <th></th>\n",
       "    </tr>\n",
       "  </thead>\n",
       "  <tbody>\n",
       "    <tr>\n",
       "      <th>2004-03-10 18:00:00</th>\n",
       "      <td>2.6</td>\n",
       "      <td>1360.0</td>\n",
       "      <td>11.9</td>\n",
       "      <td>1046.0</td>\n",
       "      <td>166.0</td>\n",
       "      <td>1056.0</td>\n",
       "      <td>113.0</td>\n",
       "      <td>1692.0</td>\n",
       "      <td>1268.0</td>\n",
       "      <td>13.6</td>\n",
       "      <td>48.9</td>\n",
       "      <td>0.7578</td>\n",
       "    </tr>\n",
       "    <tr>\n",
       "      <th>2004-03-10 19:00:00</th>\n",
       "      <td>2.0</td>\n",
       "      <td>1292.0</td>\n",
       "      <td>9.4</td>\n",
       "      <td>955.0</td>\n",
       "      <td>103.0</td>\n",
       "      <td>1174.0</td>\n",
       "      <td>92.0</td>\n",
       "      <td>1559.0</td>\n",
       "      <td>972.0</td>\n",
       "      <td>13.3</td>\n",
       "      <td>47.7</td>\n",
       "      <td>0.7255</td>\n",
       "    </tr>\n",
       "    <tr>\n",
       "      <th>2004-03-10 20:00:00</th>\n",
       "      <td>2.2</td>\n",
       "      <td>1402.0</td>\n",
       "      <td>9.0</td>\n",
       "      <td>939.0</td>\n",
       "      <td>131.0</td>\n",
       "      <td>1140.0</td>\n",
       "      <td>114.0</td>\n",
       "      <td>1555.0</td>\n",
       "      <td>1074.0</td>\n",
       "      <td>11.9</td>\n",
       "      <td>54.0</td>\n",
       "      <td>0.7502</td>\n",
       "    </tr>\n",
       "    <tr>\n",
       "      <th>2004-03-10 21:00:00</th>\n",
       "      <td>2.2</td>\n",
       "      <td>1376.0</td>\n",
       "      <td>9.2</td>\n",
       "      <td>948.0</td>\n",
       "      <td>172.0</td>\n",
       "      <td>1092.0</td>\n",
       "      <td>122.0</td>\n",
       "      <td>1584.0</td>\n",
       "      <td>1203.0</td>\n",
       "      <td>11.0</td>\n",
       "      <td>60.0</td>\n",
       "      <td>0.7867</td>\n",
       "    </tr>\n",
       "    <tr>\n",
       "      <th>2004-03-10 22:00:00</th>\n",
       "      <td>1.6</td>\n",
       "      <td>1272.0</td>\n",
       "      <td>6.5</td>\n",
       "      <td>836.0</td>\n",
       "      <td>131.0</td>\n",
       "      <td>1205.0</td>\n",
       "      <td>116.0</td>\n",
       "      <td>1490.0</td>\n",
       "      <td>1110.0</td>\n",
       "      <td>11.2</td>\n",
       "      <td>59.6</td>\n",
       "      <td>0.7888</td>\n",
       "    </tr>\n",
       "  </tbody>\n",
       "</table>\n",
       "</div>"
      ],
      "text/plain": [
       "                     CO_Concentration  CO_Sensor_Response  C6H6_Concentration  \\\n",
       "Datetime                                                                        \n",
       "2004-03-10 18:00:00               2.6              1360.0                11.9   \n",
       "2004-03-10 19:00:00               2.0              1292.0                 9.4   \n",
       "2004-03-10 20:00:00               2.2              1402.0                 9.0   \n",
       "2004-03-10 21:00:00               2.2              1376.0                 9.2   \n",
       "2004-03-10 22:00:00               1.6              1272.0                 6.5   \n",
       "\n",
       "                     NMHC_Sensor_Response  NOx_Concentration  \\\n",
       "Datetime                                                       \n",
       "2004-03-10 18:00:00                1046.0              166.0   \n",
       "2004-03-10 19:00:00                 955.0              103.0   \n",
       "2004-03-10 20:00:00                 939.0              131.0   \n",
       "2004-03-10 21:00:00                 948.0              172.0   \n",
       "2004-03-10 22:00:00                 836.0              131.0   \n",
       "\n",
       "                     NOx_Sensor_Response  NO2_Concentration  \\\n",
       "Datetime                                                      \n",
       "2004-03-10 18:00:00               1056.0              113.0   \n",
       "2004-03-10 19:00:00               1174.0               92.0   \n",
       "2004-03-10 20:00:00               1140.0              114.0   \n",
       "2004-03-10 21:00:00               1092.0              122.0   \n",
       "2004-03-10 22:00:00               1205.0              116.0   \n",
       "\n",
       "                     NO2_Sensor_Response  O3_Sensor_Response  Temperature  \\\n",
       "Datetime                                                                    \n",
       "2004-03-10 18:00:00               1692.0              1268.0         13.6   \n",
       "2004-03-10 19:00:00               1559.0               972.0         13.3   \n",
       "2004-03-10 20:00:00               1555.0              1074.0         11.9   \n",
       "2004-03-10 21:00:00               1584.0              1203.0         11.0   \n",
       "2004-03-10 22:00:00               1490.0              1110.0         11.2   \n",
       "\n",
       "                     Relative_Humidity  Absolute_Humidity  \n",
       "Datetime                                                   \n",
       "2004-03-10 18:00:00               48.9             0.7578  \n",
       "2004-03-10 19:00:00               47.7             0.7255  \n",
       "2004-03-10 20:00:00               54.0             0.7502  \n",
       "2004-03-10 21:00:00               60.0             0.7867  \n",
       "2004-03-10 22:00:00               59.6             0.7888  "
      ]
     },
     "execution_count": 29,
     "metadata": {},
     "output_type": "execute_result"
    }
   ],
   "source": [
    "air_quality = df.copy()\n",
    "air_quality.head()"
   ]
  },
  {
   "cell_type": "code",
   "execution_count": 30,
   "metadata": {},
   "outputs": [],
   "source": [
    "# Save the cleaned dataset\n",
    "air_quality.to_csv(\"../data/raw/Air-quality-cleaned-dataset.csv\")"
   ]
  },
  {
   "cell_type": "markdown",
   "metadata": {},
   "source": [
    "### Seasonality\n",
    "\n",
    "El requerimiento de este ejercicio es que la serie temporal sea **no-estacional**. La estacionalidad se refiere a las fluctuaciones periódicas de un conjunto de datos. Estos intervalos regulares se producen debido a factores estacionales. Para determinar si la serie temporal es no-estacional, primero hay que comprobar si la serie es **estacionaria**. Para ello se emplea la prueba estadística de Dickey-Fuller la cual consiste en detectar la presencia de una raíz unitaria la cual indica no estacionariedad. Si el resultado de la prueba es significativo, sugiere que la serie es estacionaria, y por tanto, no presenta estacionalidad."
   ]
  },
  {
   "cell_type": "code",
   "execution_count": null,
   "metadata": {},
   "outputs": [],
   "source": [
    "def check_seasonality(series):\n",
    "    \"\"\"\n",
    "    Perform the Dickey-Fuller test to check for seasonality and print the results.\n",
    "\n",
    "    Parameters\n",
    "    ----------\n",
    "    series : Pandas Series\n",
    "        The time series data to test for seasonality.\n",
    "    \n",
    "    Returns\n",
    "    -------\n",
    "    None\n",
    "    \"\"\"\n",
    "    result = adfuller(series)\n",
    "    adf_statistic = result[0]\n",
    "    p_value = result[1]\n",
    "    critical_values = result[4]\n",
    "    \n",
    "    # Print the results\n",
    "    print(\"Dickey-Fuller Test Results:\\n\")\n",
    "    print(f\"ADF Statistic: {adf_statistic}\")\n",
    "    print(f\"p-value: {p_value}\")\n",
    "\n",
    "    for key, value in critical_values.items():\n",
    "        print(f\"Critical Value {key}: {value}\")\n",
    "    \n",
    "    # Interpretation\n",
    "    interpretation = (\"The time series is stationary, indicating the absence of seasonality.\"\n",
    "                      if p_value < 0.05 else\n",
    "                      \"The time series is non-stationary, suggesting it may  seasonality.\")\n",
    "    print(f\"\\nInterpretation: {interpretation}\")\n"
   ]
  },
  {
   "cell_type": "code",
   "execution_count": null,
   "metadata": {},
   "outputs": [],
   "source": [
    "# Check seasonality on target variable\n",
    "adf_result = check_seasonality(air_quality[\"NO2_Concentration\"])"
   ]
  },
  {
   "cell_type": "markdown",
   "metadata": {},
   "source": [
    "Los resultados de la prueba de Dickey-Fuller indican que la serie temporal es **no estacional**.\n",
    "\n",
    "- **Estacionariedad**: La estadística ADF es menor que los valores críticos y el valor p es muy bajo. Esto significa que la serie es estacionaria, lo que sugiere que no tiene tendencias ni fluctuaciones que cambien con el tiempo.\n",
    "\n",
    "- **No Estacionalidad**: La falta de estacionalidad significa que no hay patrones repetidos en intervalos regulares. Esto implica que la serie no muestra variaciones predecibles según la época del año o del mes.\n",
    "\n",
    "Por estas razones, podemos afirmar que la serie temporal es no estacional y estacionaria."
   ]
  },
  {
   "cell_type": "code",
   "execution_count": null,
   "metadata": {},
   "outputs": [],
   "source": [
    "# Plot the NO2 concentration over time\n",
    "plt.figure(figsize = (11, 4))\n",
    "plt.plot(air_quality[\"NO2_Concentration\"], color = \"#e7298a\")\n",
    "plt.xlabel(\"Fecha\")\n",
    "plt.ylabel(\"Concentración de NO$_2$\")\n",
    "plt.title(\"Concentración de NO$_2$ a lo largo del tiempo\")"
   ]
  },
  {
   "cell_type": "code",
   "execution_count": null,
   "metadata": {},
   "outputs": [],
   "source": [
    "# Perform seasonal decomposition of the NO2 concentration data\n",
    "result = seasonal_decompose(air_quality[\"NO2_Concentration\"], model = \"additive\", period = 365)\n",
    "\n",
    "# Plot the decomposition results\n",
    "plt.figure(figsize = (14, 10))\n",
    "result.plot()\n",
    "plt.suptitle(\"Descomposición Estacional de la Concentración de NO$_2$\")\n",
    "\n",
    "# Change the color of the lines in the plot and set axis labels\n",
    "for ax in plt.gcf().axes:\n",
    "    for line in ax.lines:\n",
    "        line.set_color(\"#e7298a\")\n",
    "    ax.set_xlabel(\"Tiempo\")\n",
    "\n",
    "plt.tight_layout()"
   ]
  },
  {
   "cell_type": "markdown",
   "metadata": {},
   "source": [
    "Los resultados de la descomposición estacional muestran los componentes de la serie temporal para comprender mejor la dinámica de la concentración de NO<sub>2</sub> a lo largo del tiempo:\n",
    "\n",
    "1. **Observado**: datos originales de las concentraciones de NO<sub>2</sub>\n",
    "2. **Tendencia**: tendencia general a largo plazo de las concentraciones de NO<sub>2</sub>\n",
    "3. **Estacional**: patrones repetitivos en intervalos regulares de las concentraciones de NO<sub>2</sub>\n",
    "4. **Residual**: fluctuaciones aleatorias no explicadas por la tendencia o estacionalidad"
   ]
  },
  {
   "cell_type": "markdown",
   "metadata": {},
   "source": [
    "### Exploratory Data Analysis"
   ]
  },
  {
   "cell_type": "markdown",
   "metadata": {},
   "source": [
    "#### **Target Variable**"
   ]
  },
  {
   "cell_type": "markdown",
   "metadata": {},
   "source": [
    "La variable objetivo de este proyecto es la concentración de NO<sub>2</sub>. He elegido esta variable por las siguientes razones:\n",
    "\n",
    "- De entre todos los contaminantes del dataset, NO<sub>2</sub> es uno de los más perjudiciales para la salud.\n",
    "- Los efectos de NO<sub>2</sub> sobre la salud están bien documentados.\n",
    "- La regulación establece valores máximos y claros para este gas."
   ]
  },
  {
   "cell_type": "code",
   "execution_count": null,
   "metadata": {},
   "outputs": [],
   "source": [
    "air_quality.columns"
   ]
  },
  {
   "cell_type": "markdown",
   "metadata": {},
   "source": [
    "- **Concentraciones mensuales de NO<sub>2</sub>**"
   ]
  },
  {
   "cell_type": "code",
   "execution_count": null,
   "metadata": {},
   "outputs": [],
   "source": [
    "# Resample and plot the monthly mean of NO2 concentration levels\n",
    "monthly_no2 = air_quality[\"NO2_Concentration\"].resample(\"ME\").mean()\n",
    "\n",
    "ax = monthly_no2.plot(kind = \"bar\", figsize = (11, 4), color = \"#e7298a\")\n",
    "plt.xlabel(\"Mes\")\n",
    "plt.ylabel(\"Concentración promedio de NO$_2$\")\n",
    "ax.set_xticks(range(len(monthly_no2)))\n",
    "ax.set_xticklabels(monthly_no2.index.strftime(\"%B, %Y\"))\n",
    "plt.title(\"Concentraciones promedio mensuales de NO$_2$\");       "
   ]
  },
  {
   "cell_type": "markdown",
   "metadata": {},
   "source": [
    "Las concentraciones de NO<sub>2</sub> entre marzo de 2004 y abril de 2005 muestran que las concentraciones de este gas aumentan durante los meses de invierno y durante el verano decrecen hasta llegar al mínimo en agosto. Esto probablemente es debido al uso de calefacciónes en las casas y comercios, el transporte y mayor uso de electricidad. variaron. También se observa que existe una tendencia general al alza en los niveles de NO<sub>2</sub>."
   ]
  },
  {
   "cell_type": "markdown",
   "metadata": {},
   "source": [
    "- **Concentraciones de NO<sub>2</sub> por hora**"
   ]
  },
  {
   "cell_type": "code",
   "execution_count": null,
   "metadata": {},
   "outputs": [],
   "source": [
    "# Resample the data to get hourly mean values\n",
    "hourly_no2 = air_quality[\"NO2_Concentration\"].resample(\"h\").mean()\n",
    "\n",
    "# Create a bar plot\n",
    "plt.figure(figsize=(14, 6))\n",
    "sns.barplot(x=hourly_no2.index.hour, y=hourly_no2.values, errorbar = None, color = \"#e7298a\")\n",
    "plt.xlabel(\"Hora del día\")\n",
    "plt.ylabel(\"Concentración promedio de NO$_2$\")\n",
    "plt.title(\"Concentración promedio por hora de NO$_2$\")\n",
    "plt.xticks(range(24), [f\"{h}:00\" for h in range(24)]);"
   ]
  },
  {
   "cell_type": "markdown",
   "metadata": {},
   "source": [
    "Los niveles de NO<sub>2</sub> fluctúan durante el día de manera significativa, oscilando entre 92.0 y 190.0 ppb. Las concentraciones comienzan en 113.0 ppb a medianoche y aumentan a lo largo de la tarde, alcanzando un pico de 122.0 ppb alrededor de las 21:00. Los niveles son más bajos durante la noche, probablemente debido a un menor uso del transporte, electricidad, etc."
   ]
  },
  {
   "cell_type": "markdown",
   "metadata": {},
   "source": [
    "#### **Features**"
   ]
  },
  {
   "cell_type": "code",
   "execution_count": null,
   "metadata": {},
   "outputs": [],
   "source": [
    "# Drop unnecessary columns and resample the data by month, calculating the mean\n",
    "monthly_mean = air_quality.drop([\"Temperature\", \"Relative_Humidity\", \"Absolute_Humidity\"], axis=1).resample(\"ME\").mean()"
   ]
  },
  {
   "cell_type": "code",
   "execution_count": null,
   "metadata": {},
   "outputs": [],
   "source": [
    "# Plot monthy average values of all the gases\n",
    "colors = [\"black\", \"blue\", \"deepskyblue\", \"lightseagreen\", \"limegreen\", \"gold\", \"darkorange\", \"chocolate\", \"deeppink\"]\n",
    "\n",
    "monthly_mean.plot(figsize=(15, 8), color=colors)\n",
    "plt.xlabel(\"Mes\")\n",
    "plt.ylabel(\"Concentración promedio de gases tóxicos\")\n",
    "plt.title(\"Concentración mensual promedio de gases tóxicos\")\n",
    "plt.legend(loc=\"upper right\")\n",
    "plt.tight_layout()"
   ]
  },
  {
   "cell_type": "markdown",
   "metadata": {},
   "source": [
    "Los gráfica que representa las concentraciones mensuales promedios de los gases en el aire, muestra que éstas fluctuan significativamente a lo largo del tiempo. La única que se mantiene bastante estable es la concentración de CO se mantiene bastante estable. Por otro lado, el benceno muestra más variabilidad. Las concentraciones de NO<sub>x</sub> y NO<sub>2</sub> son mucho más altas durante el otoño e invierno, lo que probablemente sea debido al aumento en el uso de calefacción y tráfico."
   ]
  },
  {
   "cell_type": "markdown",
   "metadata": {},
   "source": [
    "#### **Matriz de Correlación**"
   ]
  },
  {
   "cell_type": "code",
   "execution_count": null,
   "metadata": {},
   "outputs": [],
   "source": [
    "correlations = air_quality.corr(numeric_only = True)\n",
    "correlations"
   ]
  },
  {
   "cell_type": "code",
   "execution_count": null,
   "metadata": {},
   "outputs": [],
   "source": [
    "correlation_heatmap_graph = plt.figure(figsize = (11, 4))\n",
    "sns.heatmap(correlations, linewidths = 0.5, annot = True, cmap = \"PuRd\")\n",
    "plt.title(\"Correlation Heatmap\", size = 12)"
   ]
  },
  {
   "cell_type": "markdown",
   "metadata": {},
   "source": [
    "La matriz de correlación muestra las relaciones entre las diferentes variables, cuánto más fuerte es el color, más relación hay entre las variables. Las relaciones más importantes entre los parámetros de calidad del aire son los siguientes:\n",
    "\n",
    "1. **Correlaciones Fuertes**:\n",
    "   - La concentración de CO se relaciona estrechamente con su sensor y con la concentración de C6H<sub>6</sub>.\n",
    "   - Las respuestas de los sensores de C6H<sub>6</sub> y NMHC perfectamente correlacionadas.\n",
    "\n",
    "2. **Compuestos de Nitrógeno**:\n",
    "   - NOx y NO<sub>2</sub> tienen una fuerte correlación positiva, lo que significa que cuando uno aumenta, el otro también aumenta.\n",
    "   - La respuesta del sensor de NOx se correlaciona negativamente con su concentración. Esto puede indicar que el sensor no funciona correctamente.\n",
    "\n",
    "3. **Temperatura y Humedad**:\n",
    "   - La temperatura tiene una leve correlación positiva con el sensor de NO<sub>2</sub> y negativa con CO.\n",
    "   - La humedad absoluta se correlaciona más fuerte con la temperatura y el sensor de NO<sub>2</sub>."
   ]
  },
  {
   "cell_type": "markdown",
   "metadata": {},
   "source": [
    "## Pre-processing"
   ]
  },
  {
   "cell_type": "markdown",
   "metadata": {},
   "source": [
    "- **Eliminación de Columnas**\n",
    "\n",
    "Se eliminaron las columnas **NMHC_Sensor_Response** y **NOx_Sensor_Response** debido a:\n",
    "\n",
    "- **NOx_Sensor_Response**: Fuerte correlación negativa con varias características y redundancia con NOx_Concentration.\n",
    "  \n",
    "- **NMHC**: Su alta correlación con C6H<sub>6</sub> sugiere que los niveles de ambos están midiendo compuestos similares y supone redundancia de datos.\n",
    "\n",
    "Eliminando ambas características evitamos posibles problemas de multicolinealidad en el modelo predictivo."
   ]
  },
  {
   "cell_type": "code",
   "execution_count": null,
   "metadata": {},
   "outputs": [],
   "source": [
    "air_quality = air_quality.drop([\"NMHC_Sensor_Response\", \"C6H6_Concentration\"], axis=1)"
   ]
  },
  {
   "cell_type": "code",
   "execution_count": null,
   "metadata": {},
   "outputs": [],
   "source": [
    "air_quality.head()"
   ]
  },
  {
   "cell_type": "markdown",
   "metadata": {},
   "source": [
    "### LSTM Modeling"
   ]
  },
  {
   "cell_type": "code",
   "execution_count": null,
   "metadata": {},
   "outputs": [],
   "source": [
    "# Create function to prepare the data for LSTM model\n",
    "def create_dataset(data, time_step = 1):\n",
    "    X, Y = [], []\n",
    "    for i in range(len(data) - time_step):\n",
    "        X.append(data[i:(i + time_step)])\n",
    "        Y.append(data[i + time_step])\n",
    "    return np.array(X), np.array(Y)\n",
    "\n",
    "# Normalize the data\n",
    "data = air_quality[\"NO2_Concentration\"].values\n",
    "data = (data - np.min(data)) / (np.max(data) - np.min(data))\n",
    "\n",
    "# Set the time steps to create sequences for the model\n",
    "time_step = 24\n",
    "\n",
    "# Create the dataset to feed to the LSTM model\n",
    "X, y = create_dataset(data, time_step)\n",
    "\n",
    "# Reshape the data to be compatible with the LSTM model\n",
    "X = X.reshape(X.shape[0], X.shape[1], 1)\n",
    "\n",
    "# Split the data into training and testing sets\n",
    "split = int(len(X) * 0.8)\n",
    "X_train, X_test = X[:split], X[split:]\n",
    "y_train, y_test = y[:split], y[split:]\n",
    "\n",
    "# Build the LSTM model\n",
    "model = Sequential()\n",
    "model.add(LSTM(50, return_sequences = True, input_shape = (X_train.shape[1], 1)))\n",
    "model.add(LSTM(50))\n",
    "model.add(Dense(1))\n",
    "\n",
    "model.compile(optimizer = \"adam\", loss = \"mean_squared_error\")\n",
    "\n",
    "# Train the model\n",
    "early_stopping = EarlyStopping(monitor = \"val_loss\", patience = 5)\n",
    "history = model.fit(X_train, y_train, epochs = 50, batch_size = 64, validation_split = 0.2, callbacks = [early_stopping])\n",
    "\n",
    "# Make predictions\n",
    "y_pred = model.predict(X_test)\n",
    "\n",
    "# Inverse transform predictions and actual values\n",
    "y_test = y_test.reshape(-1, 1)\n",
    "y_pred = y_pred.reshape(-1, 1)\n",
    "\n",
    "# Evaluate the model\n",
    "mae = mean_absolute_error(y_test, y_pred)\n",
    "mse = mean_squared_error(y_test, y_pred)\n",
    "rmse = np.sqrt(mse)\n",
    "r2 = r2_score(y_test, y_pred)\n",
    "\n",
    "# Print results\n",
    "print(f\"Mean Absolute Error (MAE): {mae}\")\n",
    "print(f\"Mean Squared Error (MSE): {mse}\")\n",
    "print(f\"Root Mean Squared Error (RMSE): {rmse}\")\n",
    "print(f\"R-squared (R²): {r2}\")"
   ]
  },
  {
   "cell_type": "markdown",
   "metadata": {},
   "source": [
    "Este modelo, con dos capas de LSTM y una completamente conectada es una excelente opción para resolver este problema por las siguientes razones:\n",
    "\n",
    "- **Generalización**: la pérdida de validación se mantiene cercana a la pérdida de entrenamiento, lo que indica una buena capacidad de generalización a datos no vistos.\n",
    "- **Métricas de Error**: las métricas de evaluación del modelo reflejan predicciones confiables.\n",
    "- **Poder Predictivo**: el alto valor de R² demuestra que el modelo captura eficazmente las tendencias en los datos."
   ]
  },
  {
   "cell_type": "code",
   "execution_count": null,
   "metadata": {},
   "outputs": [],
   "source": [
    "# Save the model\n",
    "model.save(\"LSTM-model-air-quality.keras\")"
   ]
  },
  {
   "cell_type": "markdown",
   "metadata": {},
   "source": [
    "**Pérdida de entrenamieto y validación**"
   ]
  },
  {
   "cell_type": "code",
   "execution_count": null,
   "metadata": {},
   "outputs": [],
   "source": [
    "# Plot training and validation loss curves\n",
    "plt.figure(figsize = (11, 4))\n",
    "plt.plot(history.history[\"loss\"], label = \"Pérdida de entrenamiento\", color = \"#e7298a\")\n",
    "plt.plot(history.history[\"val_loss\"], label = \"Pérdida de validación\", color = \"deepskyblue\")\n",
    "plt.title(\"Pérdida del modelo LSTM a lo largo de las épocas\")\n",
    "plt.ylabel(\"Pérdida\")\n",
    "plt.xlabel(\"Época\")\n",
    "plt.legend()"
   ]
  },
  {
   "cell_type": "markdown",
   "metadata": {},
   "source": [
    "**Predicciones vs Valores Reales y valor R2**"
   ]
  },
  {
   "cell_type": "code",
   "execution_count": null,
   "metadata": {},
   "outputs": [],
   "source": [
    "# Calcular r2 score\n",
    "r2 = r2_score(y_test, y_pred)\n",
    "\n",
    "# Plot predictions vs actual values\n",
    "plt.figure(figsize =  (11, 4))\n",
    "plt.plot(y_test, label=\"Concentración de NO$_2$ Real\", color = \"#e7298a\")\n",
    "plt.plot(y_pred, label=\"Concentración de NO$_2$ Predicha\", color = \"deepskyblue\")\n",
    "plt.title(f\"Predicciones vs Valores Reales (R² = {r2:.2f})\")\n",
    "plt.ylabel(\"Concentración de NO$_2$\")\n",
    "plt.xlabel(\"Pasos de Tiempo\")\n",
    "plt.legend()"
   ]
  },
  {
   "cell_type": "markdown",
   "metadata": {},
   "source": [
    "**Gráfica de residuos**"
   ]
  },
  {
   "cell_type": "code",
   "execution_count": null,
   "metadata": {},
   "outputs": [],
   "source": [
    "# Calculate residual\n",
    "residuals = y_test - y_pred\n",
    "\n",
    "# Plot residuals\n",
    "plt.figure(figsize=(11, 4))\n",
    "plt.scatter(range(len(residuals)), residuals, color = \"#e7298a\")\n",
    "plt.axhline(y = 0, color = \"deepskyblue\", linestyle = \"--\")\n",
    "plt.title(\"Residuos\")\n",
    "plt.ylabel(\"Residuos\")\n",
    "plt.xlabel(\"Índice\")\n"
   ]
  },
  {
   "cell_type": "markdown",
   "metadata": {},
   "source": [
    "**Histograma de residuos**"
   ]
  },
  {
   "cell_type": "code",
   "execution_count": null,
   "metadata": {},
   "outputs": [],
   "source": [
    "# Plot residuals histogram\n",
    "plt.figure(figsize = (11, 4))\n",
    "plt.hist(residuals, bins = 30, alpha = 0.7, color = \"#e7298a\")\n",
    "plt.title(\"Histograma de residuos\")\n",
    "plt.xlabel(\"Residuos\")\n",
    "plt.ylabel(\"Frequencia\")"
   ]
  },
  {
   "cell_type": "markdown",
   "metadata": {},
   "source": [
    "### Forecasting"
   ]
  },
  {
   "cell_type": "markdown",
   "metadata": {},
   "source": [
    "Otro de los requisitos de este ejercico es predecir 100 ciclos en el futuro sin utilizar las variables regresoras. Para ello se prepara la última entrada del dataset para que sea compatible con el modelo LSTM. Luego, se itera 100 veces para predecir los siguientes valores, agregando cada nuevo valor pronosticado a una lista que los guarda todos. Finalmente, se imprimen en la consola las predicciones para los próximos 100 pasos de tiempo."
   ]
  },
  {
   "cell_type": "code",
   "execution_count": null,
   "metadata": {},
   "outputs": [],
   "source": [
    "# Number of time steps to forecast\n",
    "num_forecasts = 100\n",
    "\n",
    "# Reshape input to fit LSTM\n",
    "last_input = data[-time_step:].reshape(1, time_step, 1)\n",
    "\n",
    "# List to store the forecasted values\n",
    "forecasted_values = []\n",
    "\n",
    "# Iterate to predict the next value\n",
    "for _ in range(num_forecasts):\n",
    "    next_value = model.predict(last_input) \n",
    "    forecasted_values.append(next_value[0, 0])\n",
    "    last_input = np.concatenate((last_input[:, 1:, :], next_value.reshape(1, 1, 1)), axis=1)\n",
    "\n",
    "# Convert the forecasted values to a numpy array\n",
    "forecasted_values = np.array(forecasted_values)\n",
    "\n",
    "# Print the forecasted values\n",
    "print(f\"Forecasted values for the next 100 time steps:\\n {forecasted_values}\")"
   ]
  },
  {
   "cell_type": "markdown",
   "metadata": {},
   "source": [
    "### Conclusiones"
   ]
  },
  {
   "cell_type": "markdown",
   "metadata": {},
   "source": [
    "El objetivo de este ejercicio fue crear un modelo de machine learning para predecir la calidad del aire en el futuro. El primer paso y uno de los más importantes es la limpieza de los datos. Este es una etapa esencial en el análisis de datos para asegurar que la información sea íntegra y confiable. Además, Se verificó que no hubiera estacionalidad en los datos, tal como se mencionaba en el planteamiento del problema. Antes del modelado se llevó a cabo una exploración de las variables para descubrir información relevante, tendencias y relaciones entre las variables. \n",
    "\n",
    "El modelo elegido para este proyecto fue una red neuronal recurrente, en concreto LSTM (Long Short-Term Memory). Lo interesante de la LSTM es que está hecha para aprender de datos en secuencia, lo que la hace perfecta para predecir la calidad del aire\n",
    "\n",
    "Al final, se logró construir un modelo sólido que mostró métricas de evaluación muy buenas y una alta puntuación R², lo que indica un rendimiento efectivo. Por último, se realizaron predicciones para los próximos 100 ciclos sin utilizar variables de regresión, tal como se había solicitado en el ejercicio."
   ]
  }
 ],
 "metadata": {
  "kernelspec": {
   "display_name": ".venv",
   "language": "python",
   "name": "python3"
  },
  "language_info": {
   "codemirror_mode": {
    "name": "ipython",
    "version": 3
   },
   "file_extension": ".py",
   "mimetype": "text/x-python",
   "name": "python",
   "nbconvert_exporter": "python",
   "pygments_lexer": "ipython3",
   "version": "3.10.2"
  }
 },
 "nbformat": 4,
 "nbformat_minor": 2
}
